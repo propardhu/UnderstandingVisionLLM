{
 "cells": [
  {
   "cell_type": "code",
   "execution_count": 5,
   "id": "da9cb6a2-0434-4319-adff-0f1cc2bc9173",
   "metadata": {},
   "outputs": [
    {
     "name": "stdout",
     "output_type": "stream",
     "text": [
      "Channels:\n",
      " - pytorch-nightly\n",
      " - defaults\n",
      "Platform: osx-arm64\n",
      "Collecting package metadata (repodata.json): done\n",
      "Solving environment: done\n",
      "\n",
      "## Package Plan ##\n",
      "\n",
      "  environment location: /opt/anaconda3\n",
      "\n",
      "  added / updated specs:\n",
      "    - pytorch\n",
      "    - torchaudio\n",
      "    - torchvision\n",
      "\n",
      "\n",
      "The following packages will be downloaded:\n",
      "\n",
      "    package                    |            build\n",
      "    ---------------------------|-----------------\n",
      "    libjpeg-turbo-2.0.0        |       h1a28f6b_0         386 KB\n",
      "    libwebp-1.3.2              |       ha3663a8_0          86 KB\n",
      "    pytorch-2.6.0.dev20241112  |         py3.12_0        60.0 MB  pytorch-nightly\n",
      "    torchaudio-2.5.0.dev20241118|        py312_cpu         4.9 MB  pytorch-nightly\n",
      "    torchvision-0.20.0.dev20241118|        py312_cpu         7.0 MB  pytorch-nightly\n",
      "    ------------------------------------------------------------\n",
      "                                           Total:        72.4 MB\n",
      "\n",
      "The following NEW packages will be INSTALLED:\n",
      "\n",
      "  libjpeg-turbo      pkgs/main/osx-arm64::libjpeg-turbo-2.0.0-h1a28f6b_0 \n",
      "  libwebp            pkgs/main/osx-arm64::libwebp-1.3.2-ha3663a8_0 \n",
      "  pytorch            pytorch-nightly/osx-arm64::pytorch-2.6.0.dev20241112-py3.12_0 \n",
      "  torchaudio         pytorch-nightly/osx-arm64::torchaudio-2.5.0.dev20241118-py312_cpu \n",
      "  torchvision        pytorch-nightly/osx-arm64::torchvision-0.20.0.dev20241118-py312_cpu \n",
      "\n",
      "\n",
      "\n",
      "Downloading and Extracting Packages:\n",
      "pytorch-2.6.0.dev202 | 60.0 MB   |                                       |   0% \n",
      "torchvision-0.20.0.d | 7.0 MB    |                                       |   0% \u001b[A\n",
      "\n",
      "torchaudio-2.5.0.dev | 4.9 MB    |                                       |   0% \u001b[A\u001b[A\n",
      "\n",
      "\n",
      "libjpeg-turbo-2.0.0  | 386 KB    |                                       |   0% \u001b[A\u001b[A\u001b[A\n",
      "\n",
      "\n",
      "\n",
      "libwebp-1.3.2        | 86 KB     |                                       |   0% \u001b[A\u001b[A\u001b[A\u001b[A\n",
      "\n",
      "\n",
      "\n",
      "libwebp-1.3.2        | 86 KB     | ##################################### | 100% \u001b[A\u001b[A\u001b[A\u001b[A\n",
      "\n",
      "\n",
      "\n",
      "libwebp-1.3.2        | 86 KB     | ##################################### | 100% \u001b[A\u001b[A\u001b[A\u001b[A\n",
      "\n",
      "\n",
      "libjpeg-turbo-2.0.0  | 386 KB    | #####################4                |  58% \u001b[A\u001b[A\u001b[A\n",
      "\n",
      "\n",
      "libjpeg-turbo-2.0.0  | 386 KB    | ##################################### | 100% \u001b[A\u001b[A\u001b[A\n",
      "\n",
      "\n",
      "libjpeg-turbo-2.0.0  | 386 KB    | ##################################### | 100% \u001b[A\u001b[A\u001b[A\n",
      "\n",
      "torchaudio-2.5.0.dev | 4.9 MB    | ##################################### | 100% \u001b[A\u001b[A\n",
      "\n",
      "torchaudio-2.5.0.dev | 4.9 MB    | ##################################### | 100% \u001b[A\u001b[A\n",
      "torchvision-0.20.0.d | 7.0 MB    | ##################################### | 100% \u001b[A\n",
      "torchvision-0.20.0.d | 7.0 MB    | ##################################### | 100% \u001b[A\n",
      "\n",
      "torchaudio-2.5.0.dev | 4.9 MB    | ##################################### | 100% \u001b[A\u001b[A\n",
      "                                                                                \u001b[A\n",
      "                                                                                \u001b[A\n",
      "\n",
      "                                                                                \u001b[A\u001b[A\n",
      "\n",
      "\n",
      "                                                                                \u001b[A\u001b[A\u001b[A\n",
      "\n",
      "\n",
      "\n",
      "                                                                                \u001b[A\u001b[A\u001b[A\u001b[A\n",
      "Preparing transaction: done\n",
      "Verifying transaction: done\n",
      "Executing transaction: done\n"
     ]
    }
   ],
   "source": [
    "!conda install pytorch torchvision torchaudio -c pytorch-nightly -y"
   ]
  },
  {
   "cell_type": "code",
   "execution_count": 100,
   "id": "aee54312",
   "metadata": {
    "execution": {
     "iopub.execute_input": "2025-03-13T04:02:46.809930Z",
     "iopub.status.busy": "2025-03-13T04:02:46.809710Z",
     "iopub.status.idle": "2025-03-13T04:02:46.813093Z",
     "shell.execute_reply": "2025-03-13T04:02:46.812530Z",
     "shell.execute_reply.started": "2025-03-13T04:02:46.809915Z"
    }
   },
   "outputs": [
    {
     "name": "stdout",
     "output_type": "stream",
     "text": [
      "2.6.0.dev20241112\n"
     ]
    }
   ],
   "source": [
    "import torch\n",
    "import pandas as pd\n",
    "import numpy as np\n",
    "import matplotlib.pyplot as plt\n",
    "print(torch.__version__)"
   ]
  },
  {
   "cell_type": "code",
   "execution_count": 102,
   "id": "017f7970",
   "metadata": {
    "execution": {
     "iopub.execute_input": "2025-03-13T04:02:47.381279Z",
     "iopub.status.busy": "2025-03-13T04:02:47.380898Z",
     "iopub.status.idle": "2025-03-13T04:02:47.388359Z",
     "shell.execute_reply": "2025-03-13T04:02:47.388055Z",
     "shell.execute_reply.started": "2025-03-13T04:02:47.381249Z"
    }
   },
   "outputs": [
    {
     "name": "stdout",
     "output_type": "stream",
     "text": [
      "tensor([1.], device='mps:0')\n"
     ]
    }
   ],
   "source": [
    "if torch.backends.mps.is_available():\n",
    "    mps_device = torch.device(\"mps\")\n",
    "    x = torch.ones(1, device=mps_device)\n",
    "    print (x)\n",
    "else:\n",
    "    print (\"MPS device not found.\")"
   ]
  },
  {
   "cell_type": "markdown",
   "id": "47f160aa-fcfc-4ce7-8a49-c562f7e00b42",
   "metadata": {},
   "source": [
    "## Scalar | Vector | Tensor"
   ]
  },
  {
   "cell_type": "code",
   "execution_count": 105,
   "id": "cd1e532c-94b0-4c2f-ab4a-f3038a316d1d",
   "metadata": {
    "execution": {
     "iopub.execute_input": "2025-03-13T04:02:49.615063Z",
     "iopub.status.busy": "2025-03-13T04:02:49.614457Z",
     "iopub.status.idle": "2025-03-13T04:02:49.621941Z",
     "shell.execute_reply": "2025-03-13T04:02:49.621172Z",
     "shell.execute_reply.started": "2025-03-13T04:02:49.615021Z"
    }
   },
   "outputs": [
    {
     "data": {
      "text/plain": [
       "tensor(7)"
      ]
     },
     "execution_count": 105,
     "metadata": {},
     "output_type": "execute_result"
    }
   ],
   "source": [
    "#Scalar\n",
    "scalar = torch.tensor(7)\n",
    "scalar"
   ]
  },
  {
   "cell_type": "code",
   "execution_count": 107,
   "id": "6b84800b-dd38-4d88-95f9-63ed27a90e12",
   "metadata": {
    "execution": {
     "iopub.execute_input": "2025-03-13T04:02:49.822684Z",
     "iopub.status.busy": "2025-03-13T04:02:49.822361Z",
     "iopub.status.idle": "2025-03-13T04:02:49.827700Z",
     "shell.execute_reply": "2025-03-13T04:02:49.826769Z",
     "shell.execute_reply.started": "2025-03-13T04:02:49.822662Z"
    }
   },
   "outputs": [
    {
     "data": {
      "text/plain": [
       "0"
      ]
     },
     "execution_count": 107,
     "metadata": {},
     "output_type": "execute_result"
    }
   ],
   "source": [
    "scalar.ndim"
   ]
  },
  {
   "cell_type": "code",
   "execution_count": 109,
   "id": "ae72791d-58ef-48ff-8747-22a4d0943c49",
   "metadata": {
    "execution": {
     "iopub.execute_input": "2025-03-13T04:02:50.007436Z",
     "iopub.status.busy": "2025-03-13T04:02:50.006854Z",
     "iopub.status.idle": "2025-03-13T04:02:50.014419Z",
     "shell.execute_reply": "2025-03-13T04:02:50.013655Z",
     "shell.execute_reply.started": "2025-03-13T04:02:50.007394Z"
    }
   },
   "outputs": [
    {
     "data": {
      "text/plain": [
       "7"
      ]
     },
     "execution_count": 109,
     "metadata": {},
     "output_type": "execute_result"
    }
   ],
   "source": [
    "scalar.item()"
   ]
  },
  {
   "cell_type": "code",
   "execution_count": 111,
   "id": "46886097-057a-4d70-8f50-469b97e97d77",
   "metadata": {
    "execution": {
     "iopub.execute_input": "2025-03-13T04:02:50.197923Z",
     "iopub.status.busy": "2025-03-13T04:02:50.197322Z",
     "iopub.status.idle": "2025-03-13T04:02:50.206000Z",
     "shell.execute_reply": "2025-03-13T04:02:50.205221Z",
     "shell.execute_reply.started": "2025-03-13T04:02:50.197881Z"
    }
   },
   "outputs": [
    {
     "data": {
      "text/plain": [
       "tensor([7, 7])"
      ]
     },
     "execution_count": 111,
     "metadata": {},
     "output_type": "execute_result"
    }
   ],
   "source": [
    "#Vector\n",
    "vector = torch.tensor([7, 7])\n",
    "vector"
   ]
  },
  {
   "cell_type": "code",
   "execution_count": 113,
   "id": "2968d0e3-f9ea-4629-bab9-6fa67f1203b2",
   "metadata": {
    "execution": {
     "iopub.execute_input": "2025-03-13T04:02:50.379304Z",
     "iopub.status.busy": "2025-03-13T04:02:50.378976Z",
     "iopub.status.idle": "2025-03-13T04:02:50.385451Z",
     "shell.execute_reply": "2025-03-13T04:02:50.384500Z",
     "shell.execute_reply.started": "2025-03-13T04:02:50.379283Z"
    }
   },
   "outputs": [
    {
     "data": {
      "text/plain": [
       "1"
      ]
     },
     "execution_count": 113,
     "metadata": {},
     "output_type": "execute_result"
    }
   ],
   "source": [
    "vector.ndim"
   ]
  },
  {
   "cell_type": "code",
   "execution_count": 115,
   "id": "b9b45ae1-8da6-49ba-97f2-1c6bd394c252",
   "metadata": {
    "execution": {
     "iopub.execute_input": "2025-03-13T04:02:50.576973Z",
     "iopub.status.busy": "2025-03-13T04:02:50.576532Z",
     "iopub.status.idle": "2025-03-13T04:02:50.583668Z",
     "shell.execute_reply": "2025-03-13T04:02:50.582958Z",
     "shell.execute_reply.started": "2025-03-13T04:02:50.576941Z"
    }
   },
   "outputs": [
    {
     "data": {
      "text/plain": [
       "torch.Size([2])"
      ]
     },
     "execution_count": 115,
     "metadata": {},
     "output_type": "execute_result"
    }
   ],
   "source": [
    "vector.shape"
   ]
  },
  {
   "cell_type": "code",
   "execution_count": 117,
   "id": "02ebb4df-2441-4223-bf9a-bf2b9b122c50",
   "metadata": {
    "execution": {
     "iopub.execute_input": "2025-03-13T04:02:50.767071Z",
     "iopub.status.busy": "2025-03-13T04:02:50.766734Z",
     "iopub.status.idle": "2025-03-13T04:02:50.775952Z",
     "shell.execute_reply": "2025-03-13T04:02:50.774785Z",
     "shell.execute_reply.started": "2025-03-13T04:02:50.767047Z"
    }
   },
   "outputs": [
    {
     "data": {
      "text/plain": [
       "tensor([[ 7,  8],\n",
       "        [ 9, 10]])"
      ]
     },
     "execution_count": 117,
     "metadata": {},
     "output_type": "execute_result"
    }
   ],
   "source": [
    "#Matrix\n",
    "MATRIX = torch.tensor([[7, 8],\n",
    "                       [9, 10]])\n",
    "MATRIX"
   ]
  },
  {
   "cell_type": "code",
   "execution_count": 119,
   "id": "5c4ce103-23a0-425d-8f33-e7cc6dfd4603",
   "metadata": {
    "execution": {
     "iopub.execute_input": "2025-03-13T04:02:50.963722Z",
     "iopub.status.busy": "2025-03-13T04:02:50.963156Z",
     "iopub.status.idle": "2025-03-13T04:02:50.970656Z",
     "shell.execute_reply": "2025-03-13T04:02:50.969652Z",
     "shell.execute_reply.started": "2025-03-13T04:02:50.963682Z"
    }
   },
   "outputs": [
    {
     "data": {
      "text/plain": [
       "2"
      ]
     },
     "execution_count": 119,
     "metadata": {},
     "output_type": "execute_result"
    }
   ],
   "source": [
    "MATRIX.ndim"
   ]
  },
  {
   "cell_type": "code",
   "execution_count": 121,
   "id": "52e807d5-3cde-458f-ae3c-1b63b255e483",
   "metadata": {
    "execution": {
     "iopub.execute_input": "2025-03-13T04:02:51.164730Z",
     "iopub.status.busy": "2025-03-13T04:02:51.164158Z",
     "iopub.status.idle": "2025-03-13T04:02:51.172145Z",
     "shell.execute_reply": "2025-03-13T04:02:51.171256Z",
     "shell.execute_reply.started": "2025-03-13T04:02:51.164689Z"
    }
   },
   "outputs": [
    {
     "data": {
      "text/plain": [
       "tensor([ 9, 10])"
      ]
     },
     "execution_count": 121,
     "metadata": {},
     "output_type": "execute_result"
    }
   ],
   "source": [
    "MATRIX[1]"
   ]
  },
  {
   "cell_type": "code",
   "execution_count": 123,
   "id": "a571d3a2-2c66-437a-89b3-ca482c37c3a9",
   "metadata": {
    "execution": {
     "iopub.execute_input": "2025-03-13T04:02:51.364203Z",
     "iopub.status.busy": "2025-03-13T04:02:51.363625Z",
     "iopub.status.idle": "2025-03-13T04:02:51.371088Z",
     "shell.execute_reply": "2025-03-13T04:02:51.369957Z",
     "shell.execute_reply.started": "2025-03-13T04:02:51.364161Z"
    }
   },
   "outputs": [
    {
     "data": {
      "text/plain": [
       "torch.Size([2, 2])"
      ]
     },
     "execution_count": 123,
     "metadata": {},
     "output_type": "execute_result"
    }
   ],
   "source": [
    "MATRIX.shape"
   ]
  },
  {
   "cell_type": "code",
   "execution_count": 125,
   "id": "415430e9-d5ed-4ce8-b241-ba20f293e9f4",
   "metadata": {
    "execution": {
     "iopub.execute_input": "2025-03-13T04:02:51.570559Z",
     "iopub.status.busy": "2025-03-13T04:02:51.569976Z",
     "iopub.status.idle": "2025-03-13T04:02:51.579034Z",
     "shell.execute_reply": "2025-03-13T04:02:51.578129Z",
     "shell.execute_reply.started": "2025-03-13T04:02:51.570517Z"
    }
   },
   "outputs": [
    {
     "data": {
      "text/plain": [
       "tensor([[[1, 2, 3],\n",
       "         [4, 5, 6],\n",
       "         [7, 8, 9]]])"
      ]
     },
     "execution_count": 125,
     "metadata": {},
     "output_type": "execute_result"
    }
   ],
   "source": [
    "#Tensor\n",
    "TENSOR = torch.tensor([[[1,2,3],[4,5,6], [7,8,9]]])\n",
    "TENSOR"
   ]
  },
  {
   "cell_type": "code",
   "execution_count": 127,
   "id": "530597d1-c88c-4361-94cf-61c2687a607f",
   "metadata": {
    "execution": {
     "iopub.execute_input": "2025-03-13T04:02:51.778127Z",
     "iopub.status.busy": "2025-03-13T04:02:51.777548Z",
     "iopub.status.idle": "2025-03-13T04:02:51.784642Z",
     "shell.execute_reply": "2025-03-13T04:02:51.783851Z",
     "shell.execute_reply.started": "2025-03-13T04:02:51.778085Z"
    }
   },
   "outputs": [
    {
     "data": {
      "text/plain": [
       "3"
      ]
     },
     "execution_count": 127,
     "metadata": {},
     "output_type": "execute_result"
    }
   ],
   "source": [
    "TENSOR.ndim"
   ]
  },
  {
   "cell_type": "code",
   "execution_count": 129,
   "id": "c72ff8b8-7d50-4bc1-b0fa-2b29c1d0be8b",
   "metadata": {
    "execution": {
     "iopub.execute_input": "2025-03-13T04:02:51.964640Z",
     "iopub.status.busy": "2025-03-13T04:02:51.964042Z",
     "iopub.status.idle": "2025-03-13T04:02:51.971641Z",
     "shell.execute_reply": "2025-03-13T04:02:51.970746Z",
     "shell.execute_reply.started": "2025-03-13T04:02:51.964573Z"
    }
   },
   "outputs": [
    {
     "data": {
      "text/plain": [
       "torch.Size([1, 3, 3])"
      ]
     },
     "execution_count": 129,
     "metadata": {},
     "output_type": "execute_result"
    }
   ],
   "source": [
    "TENSOR.shape"
   ]
  },
  {
   "cell_type": "markdown",
   "id": "e7870d2d-95ad-4894-9655-9a6c8ddf2967",
   "metadata": {},
   "source": [
    "## Random Tensors"
   ]
  },
  {
   "cell_type": "code",
   "execution_count": 132,
   "id": "ceb94d58-933d-4075-bbe0-2d5d5aebccdd",
   "metadata": {
    "execution": {
     "iopub.execute_input": "2025-03-13T04:02:52.365685Z",
     "iopub.status.busy": "2025-03-13T04:02:52.365090Z",
     "iopub.status.idle": "2025-03-13T04:02:52.371543Z",
     "shell.execute_reply": "2025-03-13T04:02:52.371028Z",
     "shell.execute_reply.started": "2025-03-13T04:02:52.365639Z"
    }
   },
   "outputs": [
    {
     "data": {
      "text/plain": [
       "tensor([[0.4858, 0.3719, 0.0682, 0.9626],\n",
       "        [0.7471, 0.4460, 0.6698, 0.7832],\n",
       "        [0.8879, 0.5181, 0.8355, 0.8131]])"
      ]
     },
     "execution_count": 132,
     "metadata": {},
     "output_type": "execute_result"
    }
   ],
   "source": [
    "random_tensor = torch.rand(3, 4)\n",
    "random_tensor"
   ]
  },
  {
   "cell_type": "code",
   "execution_count": 134,
   "id": "1b2b9632-3589-44d6-a6d9-f88eec193889",
   "metadata": {
    "execution": {
     "iopub.execute_input": "2025-03-13T04:02:52.564027Z",
     "iopub.status.busy": "2025-03-13T04:02:52.563449Z",
     "iopub.status.idle": "2025-03-13T04:02:52.571221Z",
     "shell.execute_reply": "2025-03-13T04:02:52.570709Z",
     "shell.execute_reply.started": "2025-03-13T04:02:52.563985Z"
    }
   },
   "outputs": [
    {
     "data": {
      "text/plain": [
       "(torch.Size([3, 224, 224]), 3)"
      ]
     },
     "execution_count": 134,
     "metadata": {},
     "output_type": "execute_result"
    }
   ],
   "source": [
    "random_image_size_tensor = torch.rand(size=(3, 224, 224))\n",
    "random_image_size_tensor.shape, random_image_size_tensor.ndim"
   ]
  },
  {
   "cell_type": "code",
   "execution_count": 136,
   "id": "4175d4de-b55a-42a1-b6bd-131bde1e7f30",
   "metadata": {
    "execution": {
     "iopub.execute_input": "2025-03-13T04:02:52.765104Z",
     "iopub.status.busy": "2025-03-13T04:02:52.764529Z",
     "iopub.status.idle": "2025-03-13T04:02:52.772986Z",
     "shell.execute_reply": "2025-03-13T04:02:52.771980Z",
     "shell.execute_reply.started": "2025-03-13T04:02:52.765063Z"
    }
   },
   "outputs": [
    {
     "data": {
      "text/plain": [
       "tensor([[0., 0., 0., 0.],\n",
       "        [0., 0., 0., 0.],\n",
       "        [0., 0., 0., 0.]])"
      ]
     },
     "execution_count": 136,
     "metadata": {},
     "output_type": "execute_result"
    }
   ],
   "source": [
    "# Zeros and Ones\n",
    "zeros = torch.zeros(3,4)\n",
    "zeros"
   ]
  },
  {
   "cell_type": "code",
   "execution_count": 138,
   "id": "b213c99a-dc0e-4f2e-b86b-7fe214422b86",
   "metadata": {
    "execution": {
     "iopub.execute_input": "2025-03-13T04:02:52.962376Z",
     "iopub.status.busy": "2025-03-13T04:02:52.961798Z",
     "iopub.status.idle": "2025-03-13T04:02:52.970262Z",
     "shell.execute_reply": "2025-03-13T04:02:52.969543Z",
     "shell.execute_reply.started": "2025-03-13T04:02:52.962334Z"
    }
   },
   "outputs": [
    {
     "data": {
      "text/plain": [
       "tensor([[1., 1., 1., 1.],\n",
       "        [1., 1., 1., 1.],\n",
       "        [1., 1., 1., 1.]])"
      ]
     },
     "execution_count": 138,
     "metadata": {},
     "output_type": "execute_result"
    }
   ],
   "source": [
    "ones = torch.ones(3,4)\n",
    "ones"
   ]
  },
  {
   "cell_type": "code",
   "execution_count": 140,
   "id": "44010631-0a12-4dc7-aa4f-342eb424310b",
   "metadata": {
    "execution": {
     "iopub.execute_input": "2025-03-13T04:02:53.184955Z",
     "iopub.status.busy": "2025-03-13T04:02:53.184384Z",
     "iopub.status.idle": "2025-03-13T04:02:53.192565Z",
     "shell.execute_reply": "2025-03-13T04:02:53.191303Z",
     "shell.execute_reply.started": "2025-03-13T04:02:53.184914Z"
    }
   },
   "outputs": [
    {
     "data": {
      "text/plain": [
       "torch.float32"
      ]
     },
     "execution_count": 140,
     "metadata": {},
     "output_type": "execute_result"
    }
   ],
   "source": [
    "ones.dtype"
   ]
  },
  {
   "cell_type": "code",
   "execution_count": 142,
   "id": "2afd717a-b2e9-4ce5-bbd5-44bda3c37364",
   "metadata": {
    "execution": {
     "iopub.execute_input": "2025-03-13T04:02:53.386351Z",
     "iopub.status.busy": "2025-03-13T04:02:53.385743Z",
     "iopub.status.idle": "2025-03-13T04:02:53.395005Z",
     "shell.execute_reply": "2025-03-13T04:02:53.394174Z",
     "shell.execute_reply.started": "2025-03-13T04:02:53.386306Z"
    }
   },
   "outputs": [
    {
     "data": {
      "text/plain": [
       "tensor([  1,  51, 101, 151, 201, 251, 301, 351, 401, 451, 501, 551, 601, 651,\n",
       "        701, 751, 801, 851, 901, 951])"
      ]
     },
     "execution_count": 142,
     "metadata": {},
     "output_type": "execute_result"
    }
   ],
   "source": [
    "torch.arange(start=1,end=1000,step=50)"
   ]
  },
  {
   "cell_type": "code",
   "execution_count": 144,
   "id": "b977db38-015b-4e7f-bfdb-f9074c643161",
   "metadata": {
    "execution": {
     "iopub.execute_input": "2025-03-13T04:02:53.596642Z",
     "iopub.status.busy": "2025-03-13T04:02:53.596067Z",
     "iopub.status.idle": "2025-03-13T04:02:53.604903Z",
     "shell.execute_reply": "2025-03-13T04:02:53.603691Z",
     "shell.execute_reply.started": "2025-03-13T04:02:53.596601Z"
    }
   },
   "outputs": [
    {
     "data": {
      "text/plain": [
       "tensor([3, 6, 9])"
      ]
     },
     "execution_count": 144,
     "metadata": {},
     "output_type": "execute_result"
    }
   ],
   "source": [
    "float_32_tensor = torch.tensor([3,6,9], dtype=None, device=None, requires_grad=False)\n",
    "float_32_tensor"
   ]
  },
  {
   "cell_type": "code",
   "execution_count": 146,
   "id": "27810f0a-ce7d-4f78-9275-0c40cb4a93c6",
   "metadata": {
    "execution": {
     "iopub.execute_input": "2025-03-13T04:02:53.806768Z",
     "iopub.status.busy": "2025-03-13T04:02:53.806135Z",
     "iopub.status.idle": "2025-03-13T04:02:53.813824Z",
     "shell.execute_reply": "2025-03-13T04:02:53.813103Z",
     "shell.execute_reply.started": "2025-03-13T04:02:53.806720Z"
    }
   },
   "outputs": [
    {
     "data": {
      "text/plain": [
       "torch.int64"
      ]
     },
     "execution_count": 146,
     "metadata": {},
     "output_type": "execute_result"
    }
   ],
   "source": [
    "float_32_tensor.dtype"
   ]
  },
  {
   "cell_type": "code",
   "execution_count": 148,
   "id": "007484cd-bec7-43e7-ad7a-14384065129e",
   "metadata": {
    "execution": {
     "iopub.execute_input": "2025-03-13T04:02:54.012893Z",
     "iopub.status.busy": "2025-03-13T04:02:54.012575Z",
     "iopub.status.idle": "2025-03-13T04:02:54.017263Z",
     "shell.execute_reply": "2025-03-13T04:02:54.016720Z",
     "shell.execute_reply.started": "2025-03-13T04:02:54.012873Z"
    }
   },
   "outputs": [
    {
     "data": {
      "text/plain": [
       "tensor([ 9, 36, 81])"
      ]
     },
     "execution_count": 148,
     "metadata": {},
     "output_type": "execute_result"
    }
   ],
   "source": [
    "float_32_tensor*float_32_tensor"
   ]
  },
  {
   "cell_type": "code",
   "execution_count": 150,
   "id": "3e552eef-8655-4dde-96d8-7a28b9094888",
   "metadata": {
    "execution": {
     "iopub.execute_input": "2025-03-13T04:02:54.227836Z",
     "iopub.status.busy": "2025-03-13T04:02:54.227263Z",
     "iopub.status.idle": "2025-03-13T04:02:54.235802Z",
     "shell.execute_reply": "2025-03-13T04:02:54.235270Z",
     "shell.execute_reply.started": "2025-03-13T04:02:54.227795Z"
    }
   },
   "outputs": [
    {
     "data": {
      "text/plain": [
       "tensor([[0.0598, 0.6549, 0.4641, 0.9751],\n",
       "        [0.0907, 0.2251, 0.8202, 0.7866],\n",
       "        [0.7911, 0.8690, 0.7372, 0.2456]])"
      ]
     },
     "execution_count": 150,
     "metadata": {},
     "output_type": "execute_result"
    }
   ],
   "source": [
    "some_tensor = torch.rand(3,4)\n",
    "some_tensor"
   ]
  },
  {
   "cell_type": "code",
   "execution_count": 152,
   "id": "3652b107-f939-4564-b255-3753be14b7d3",
   "metadata": {
    "execution": {
     "iopub.execute_input": "2025-03-13T04:02:54.432817Z",
     "iopub.status.busy": "2025-03-13T04:02:54.432207Z",
     "iopub.status.idle": "2025-03-13T04:02:54.440994Z",
     "shell.execute_reply": "2025-03-13T04:02:54.440347Z",
     "shell.execute_reply.started": "2025-03-13T04:02:54.432771Z"
    }
   },
   "outputs": [
    {
     "name": "stdout",
     "output_type": "stream",
     "text": [
      "tensor([[0.0598, 0.6549, 0.4641, 0.9751],\n",
      "        [0.0907, 0.2251, 0.8202, 0.7866],\n",
      "        [0.7911, 0.8690, 0.7372, 0.2456]])\n",
      "Datatype of tensor : torch.float32\n",
      "Shape of tensor : torch.Size([3, 4])\n",
      "Device tensor is on : cpu\n"
     ]
    }
   ],
   "source": [
    "print(some_tensor)\n",
    "print(f\"Datatype of tensor : {some_tensor.dtype}\")\n",
    "print(f\"Shape of tensor : {some_tensor.size()}\")\n",
    "print(f\"Device tensor is on : {some_tensor.device}\")"
   ]
  },
  {
   "cell_type": "markdown",
   "id": "a4740679-d520-46c1-941b-e289a48a9193",
   "metadata": {},
   "source": [
    "## Manipulation Tensor"
   ]
  },
  {
   "cell_type": "code",
   "execution_count": 155,
   "id": "c7ad3a6d-1bb3-4cba-95b0-f79b700a2a91",
   "metadata": {
    "execution": {
     "iopub.execute_input": "2025-03-13T04:02:54.870627Z",
     "iopub.status.busy": "2025-03-13T04:02:54.870041Z",
     "iopub.status.idle": "2025-03-13T04:02:54.878457Z",
     "shell.execute_reply": "2025-03-13T04:02:54.877559Z",
     "shell.execute_reply.started": "2025-03-13T04:02:54.870586Z"
    }
   },
   "outputs": [
    {
     "data": {
      "text/plain": [
       "tensor([11, 12, 13])"
      ]
     },
     "execution_count": 155,
     "metadata": {},
     "output_type": "execute_result"
    }
   ],
   "source": [
    "tensor = torch.tensor([1, 2, 3])\n",
    "tensor + 10"
   ]
  },
  {
   "cell_type": "code",
   "execution_count": 157,
   "id": "c77c8d87-1e2d-4433-a329-885af5ca83f9",
   "metadata": {
    "execution": {
     "iopub.execute_input": "2025-03-13T04:02:55.061088Z",
     "iopub.status.busy": "2025-03-13T04:02:55.060767Z",
     "iopub.status.idle": "2025-03-13T04:02:55.068810Z",
     "shell.execute_reply": "2025-03-13T04:02:55.067564Z",
     "shell.execute_reply.started": "2025-03-13T04:02:55.061068Z"
    }
   },
   "outputs": [
    {
     "data": {
      "text/plain": [
       "tensor([10, 20, 30])"
      ]
     },
     "execution_count": 157,
     "metadata": {},
     "output_type": "execute_result"
    }
   ],
   "source": [
    "tensor * 10"
   ]
  },
  {
   "cell_type": "code",
   "execution_count": 159,
   "id": "7b3df358-83d4-4b0c-a4dd-d8059e7149a9",
   "metadata": {
    "execution": {
     "iopub.execute_input": "2025-03-13T04:02:55.270203Z",
     "iopub.status.busy": "2025-03-13T04:02:55.269623Z",
     "iopub.status.idle": "2025-03-13T04:02:55.278276Z",
     "shell.execute_reply": "2025-03-13T04:02:55.277504Z",
     "shell.execute_reply.started": "2025-03-13T04:02:55.270161Z"
    }
   },
   "outputs": [
    {
     "data": {
      "text/plain": [
       "tensor([0, 1, 2])"
      ]
     },
     "execution_count": 159,
     "metadata": {},
     "output_type": "execute_result"
    }
   ],
   "source": [
    "tensor - 1"
   ]
  },
  {
   "cell_type": "code",
   "execution_count": 161,
   "id": "4f1b2862-af71-4e0a-a57e-3570d4204296",
   "metadata": {
    "execution": {
     "iopub.execute_input": "2025-03-13T04:02:55.478196Z",
     "iopub.status.busy": "2025-03-13T04:02:55.477617Z",
     "iopub.status.idle": "2025-03-13T04:02:55.485614Z",
     "shell.execute_reply": "2025-03-13T04:02:55.484692Z",
     "shell.execute_reply.started": "2025-03-13T04:02:55.478154Z"
    }
   },
   "outputs": [
    {
     "data": {
      "text/plain": [
       "tensor([10, 20, 30])"
      ]
     },
     "execution_count": 161,
     "metadata": {},
     "output_type": "execute_result"
    }
   ],
   "source": [
    "torch.mul(tensor, 10)"
   ]
  },
  {
   "cell_type": "code",
   "execution_count": 163,
   "id": "4d69eb46-ba4c-4c79-bc28-bf615abd7890",
   "metadata": {
    "execution": {
     "iopub.execute_input": "2025-03-13T04:02:55.690598Z",
     "iopub.status.busy": "2025-03-13T04:02:55.690020Z",
     "iopub.status.idle": "2025-03-13T04:02:55.698427Z",
     "shell.execute_reply": "2025-03-13T04:02:55.697673Z",
     "shell.execute_reply.started": "2025-03-13T04:02:55.690556Z"
    }
   },
   "outputs": [
    {
     "data": {
      "text/plain": [
       "tensor([11, 12, 13])"
      ]
     },
     "execution_count": 163,
     "metadata": {},
     "output_type": "execute_result"
    }
   ],
   "source": [
    "torch.add(tensor, 10)"
   ]
  },
  {
   "cell_type": "markdown",
   "id": "decf95a3-c665-4f5b-bb71-cc1cd006dcf8",
   "metadata": {},
   "source": [
    "### Matrix Multiplication"
   ]
  },
  {
   "cell_type": "code",
   "execution_count": 166,
   "id": "197d86d8-1d58-47db-87e1-91a1ec3bc9f9",
   "metadata": {
    "execution": {
     "iopub.execute_input": "2025-03-13T04:02:56.106382Z",
     "iopub.status.busy": "2025-03-13T04:02:56.105795Z",
     "iopub.status.idle": "2025-03-13T04:02:56.114120Z",
     "shell.execute_reply": "2025-03-13T04:02:56.113265Z",
     "shell.execute_reply.started": "2025-03-13T04:02:56.106341Z"
    }
   },
   "outputs": [
    {
     "data": {
      "text/plain": [
       "tensor([1, 4, 9])"
      ]
     },
     "execution_count": 166,
     "metadata": {},
     "output_type": "execute_result"
    }
   ],
   "source": [
    "# Element wise\n",
    "tensor * tensor"
   ]
  },
  {
   "cell_type": "code",
   "execution_count": 168,
   "id": "78956e92-b9da-4464-820b-cc20474fe134",
   "metadata": {
    "execution": {
     "iopub.execute_input": "2025-03-13T04:02:56.300521Z",
     "iopub.status.busy": "2025-03-13T04:02:56.299941Z",
     "iopub.status.idle": "2025-03-13T04:02:56.309195Z",
     "shell.execute_reply": "2025-03-13T04:02:56.307390Z",
     "shell.execute_reply.started": "2025-03-13T04:02:56.300480Z"
    }
   },
   "outputs": [
    {
     "data": {
      "text/plain": [
       "tensor(14)"
      ]
     },
     "execution_count": 168,
     "metadata": {},
     "output_type": "execute_result"
    }
   ],
   "source": [
    "torch.matmul(tensor,tensor)"
   ]
  },
  {
   "cell_type": "code",
   "execution_count": 170,
   "id": "a2aabd01-4690-48f2-9858-25420a0a4e2c",
   "metadata": {
    "execution": {
     "iopub.execute_input": "2025-03-13T04:02:56.509957Z",
     "iopub.status.busy": "2025-03-13T04:02:56.509382Z",
     "iopub.status.idle": "2025-03-13T04:02:56.519271Z",
     "shell.execute_reply": "2025-03-13T04:02:56.518414Z",
     "shell.execute_reply.started": "2025-03-13T04:02:56.509916Z"
    }
   },
   "outputs": [
    {
     "data": {
      "text/plain": [
       "(tensor([[0.9935, 0.4165, 0.4931],\n",
       "         [0.4315, 0.6676, 0.4714],\n",
       "         [0.5812, 0.3488, 0.8976]]),\n",
       " tensor([[0.9681, 0.7927, 0.3685],\n",
       "         [0.2325, 0.5181, 0.5588],\n",
       "         [0.0056, 0.9610, 0.5128]]))"
      ]
     },
     "execution_count": 170,
     "metadata": {},
     "output_type": "execute_result"
    }
   ],
   "source": [
    "ele1 = torch.rand(3,3)\n",
    "ele2 = torch.rand(3,3)\n",
    "ele1, ele2"
   ]
  },
  {
   "cell_type": "code",
   "execution_count": 172,
   "id": "7e2a9d76-ab99-4c23-914e-f5d106317df7",
   "metadata": {
    "execution": {
     "iopub.execute_input": "2025-03-13T04:02:56.722726Z",
     "iopub.status.busy": "2025-03-13T04:02:56.722160Z",
     "iopub.status.idle": "2025-03-13T04:02:56.730659Z",
     "shell.execute_reply": "2025-03-13T04:02:56.730164Z",
     "shell.execute_reply.started": "2025-03-13T04:02:56.722684Z"
    }
   },
   "outputs": [
    {
     "data": {
      "text/plain": [
       "tensor([[1.0615, 1.4772, 0.8516],\n",
       "        [0.5756, 1.1410, 0.7737],\n",
       "        [0.6488, 1.5040, 0.8693]])"
      ]
     },
     "execution_count": 172,
     "metadata": {},
     "output_type": "execute_result"
    }
   ],
   "source": [
    "torch.matmul(ele1,ele2)"
   ]
  },
  {
   "cell_type": "code",
   "execution_count": 179,
   "id": "628000cc-915f-48b2-88be-17d10d847efe",
   "metadata": {
    "execution": {
     "iopub.execute_input": "2025-03-13T04:03:08.647236Z",
     "iopub.status.busy": "2025-03-13T04:03:08.646658Z",
     "iopub.status.idle": "2025-03-13T04:03:08.653784Z",
     "shell.execute_reply": "2025-03-13T04:03:08.653256Z",
     "shell.execute_reply.started": "2025-03-13T04:03:08.647195Z"
    }
   },
   "outputs": [
    {
     "name": "stdout",
     "output_type": "stream",
     "text": [
      "tensor(14)\n"
     ]
    }
   ],
   "source": [
    "value = 0\n",
    "for i in range(len(tensor)):\n",
    "    value += tensor[i] * tensor[i]\n",
    "print(value)"
   ]
  },
  {
   "cell_type": "code",
   "execution_count": 181,
   "id": "0b87a7df-e37c-460d-be1b-ec20cf995da9",
   "metadata": {
    "execution": {
     "iopub.execute_input": "2025-03-13T04:03:24.347545Z",
     "iopub.status.busy": "2025-03-13T04:03:24.346948Z",
     "iopub.status.idle": "2025-03-13T04:03:24.355218Z",
     "shell.execute_reply": "2025-03-13T04:03:24.354384Z",
     "shell.execute_reply.started": "2025-03-13T04:03:24.347503Z"
    }
   },
   "outputs": [
    {
     "data": {
      "text/plain": [
       "tensor(14)"
      ]
     },
     "execution_count": 181,
     "metadata": {},
     "output_type": "execute_result"
    }
   ],
   "source": [
    "torch.matmul(tensor,tensor)"
   ]
  },
  {
   "cell_type": "code",
   "execution_count": 183,
   "id": "220b079e-d827-4096-a837-aad585615e4c",
   "metadata": {
    "execution": {
     "iopub.execute_input": "2025-03-13T04:04:46.893106Z",
     "iopub.status.busy": "2025-03-13T04:04:46.892500Z",
     "iopub.status.idle": "2025-03-13T04:04:46.900593Z",
     "shell.execute_reply": "2025-03-13T04:04:46.899531Z",
     "shell.execute_reply.started": "2025-03-13T04:04:46.893065Z"
    }
   },
   "outputs": [
    {
     "data": {
      "text/plain": [
       "tensor(14)"
      ]
     },
     "execution_count": 183,
     "metadata": {},
     "output_type": "execute_result"
    }
   ],
   "source": [
    "tensor @ tensor"
   ]
  },
  {
   "cell_type": "code",
   "execution_count": null,
   "id": "57351558-9969-4e26-9fcf-e87d5c9d0a04",
   "metadata": {},
   "outputs": [],
   "source": []
  },
  {
   "cell_type": "code",
   "execution_count": null,
   "id": "d4ea7a3b-de77-49ad-a819-aaa42cfe7a05",
   "metadata": {},
   "outputs": [],
   "source": []
  }
 ],
 "metadata": {
  "kernelspec": {
   "display_name": "Python [conda env:base] *",
   "language": "python",
   "name": "conda-base-py"
  },
  "language_info": {
   "codemirror_mode": {
    "name": "ipython",
    "version": 3
   },
   "file_extension": ".py",
   "mimetype": "text/x-python",
   "name": "python",
   "nbconvert_exporter": "python",
   "pygments_lexer": "ipython3",
   "version": "3.12.7"
  }
 },
 "nbformat": 4,
 "nbformat_minor": 5
}
