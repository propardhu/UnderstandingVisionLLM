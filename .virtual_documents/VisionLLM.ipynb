!pip install torch torchvision torchaudio --extra-index-url https://download.pytorch.org/whl/cpu


!pip install sentencepiece numpy


import torch
print(torch.backends.mps.is_available())  # For Apple M-Series GPU
print(torch.cuda.is_available())  # For NVIDIA CUDA


!conda uninstall torch torchvision torchaudio -y



