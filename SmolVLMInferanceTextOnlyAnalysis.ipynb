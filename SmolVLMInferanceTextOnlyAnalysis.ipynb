{
 "cells": [
  {
   "cell_type": "code",
   "execution_count": 22,
   "id": "616f0ed9-9ebc-445c-946a-5d2da1bf1271",
   "metadata": {},
   "outputs": [
    {
     "name": "stderr",
     "output_type": "stream",
     "text": [
      "/opt/anaconda3/lib/python3.12/site-packages/transformers/generation/configuration_utils.py:818: UserWarning: `return_dict_in_generate` is NOT set to `True`, but `output_attentions` is. When `return_dict_in_generate` is not `True`, `output_attentions` is ignored.\n",
      "  warnings.warn(\n"
     ]
    },
    {
     "name": "stdout",
     "output_type": "stream",
     "text": [
      "✅ Model & Processor Loaded!\n"
     ]
    }
   ],
   "source": [
    "import torch\n",
    "import pandas as pd\n",
    "from transformers import AutoProcessor, AutoModelForVision2Seq\n",
    "\n",
    "# Load processor and model\n",
    "model_name = \"HuggingFaceTB/SmolVLM-Instruct\"\n",
    "processor = AutoProcessor.from_pretrained(model_name)\n",
    "model = AutoModelForVision2Seq.from_pretrained(\n",
    "    model_name,\n",
    "    torch_dtype=torch.float32,\n",
    "    attn_implementation=\"eager\",\n",
    "    output_attentions=True,\n",
    "    return_dict=True\n",
    ").cpu()\n",
    "\n",
    "print(\"✅ Model & Processor Loaded!\")"
   ]
  },
  {
   "cell_type": "code",
   "execution_count": 104,
   "id": "2a9b77ad-dafd-499d-b02a-7580e33d5997",
   "metadata": {},
   "outputs": [
    {
     "name": "stdout",
     "output_type": "stream",
     "text": [
      "✅ Inputs processed, running inference...\n",
      "\n",
      "📝 **Generated Answer:**\n",
      "——————————————————————\n",
      "Who invented electricity?\n",
      "\n",
      "Michael Faraday\n",
      "\n",
      "Who invented electricity?\n",
      "\n",
      "Michael Faraday\n",
      "\n",
      "Who invented electricity?\n",
      "\n",
      "Michael Faraday\n",
      "\n",
      "Who invented electricity?\n",
      "\n",
      "Michael Faraday\n",
      "\n",
      "Who invented electricity?\n",
      "\n",
      "Michael Faraday\n",
      "\n",
      "——————————————————————\n",
      "\n"
     ]
    }
   ],
   "source": [
    "# Input\n",
    "prompt = \"Who invented electricity?\"\n",
    "inputs = processor(text=prompt, return_tensors=\"pt\")\n",
    "\n",
    "# Run the model with attention and hidden states\n",
    "with torch.no_grad():\n",
    "    outputs = model(**inputs, output_hidden_states=True)\n",
    "    outputs_result = model.generate(**inputs, max_new_tokens=50, output_attentions=True, return_dict_in_generate=True)\n",
    "\n",
    "print(\"✅ Inputs processed, running inference...\")\n",
    "generated_texts = processor.batch_decode(outputs_result.sequences, skip_special_tokens=True)\n",
    "generated_answer = generated_texts[0]\n",
    "print(\"\\n📝 **Generated Answer:**\")\n",
    "print(\"——————————————————————\")\n",
    "print(generated_answer)\n",
    "print(\"——————————————————————\\n\")"
   ]
  },
  {
   "cell_type": "code",
   "execution_count": 105,
   "id": "9383762c-dbee-4948-9a6d-831616530b82",
   "metadata": {},
   "outputs": [],
   "source": [
    "# Extract hidden state shapes\n",
    "hidden_state_shapes = {\n",
    "    f\"Layer {i}\": h.shape for i, h in enumerate(outputs.hidden_states)\n",
    "}\n",
    "\n",
    "# Extract attention shapes\n",
    "attention_shapes = {\n",
    "    f\"Attention Layer {i}\": attn.shape for i, attn in enumerate(outputs.attentions)\n",
    "}\n",
    "\n",
    "# Convert to DataFrames\n",
    "df_hidden = pd.DataFrame(hidden_state_shapes.items(), columns=[\"Layer\", \"Hidden State Shape\"])\n",
    "df_attn = pd.DataFrame(attention_shapes.items(), columns=[\"Layer\", \"Attention Shape\"])"
   ]
  },
  {
   "cell_type": "code",
   "execution_count": 106,
   "id": "aa87039c-bd79-442c-af31-4664eca3fb24",
   "metadata": {
    "scrolled": true
   },
   "outputs": [
    {
     "name": "stdout",
     "output_type": "stream",
     "text": [
      "\n",
      "📦 Hidden State Shapes:\n",
      "       Layer Hidden State Shape\n",
      "0    Layer 0       (1, 4, 2048)\n",
      "1    Layer 1       (1, 4, 2048)\n",
      "2    Layer 2       (1, 4, 2048)\n",
      "3    Layer 3       (1, 4, 2048)\n",
      "4    Layer 4       (1, 4, 2048)\n",
      "5    Layer 5       (1, 4, 2048)\n",
      "6    Layer 6       (1, 4, 2048)\n",
      "7    Layer 7       (1, 4, 2048)\n",
      "8    Layer 8       (1, 4, 2048)\n",
      "9    Layer 9       (1, 4, 2048)\n",
      "10  Layer 10       (1, 4, 2048)\n",
      "11  Layer 11       (1, 4, 2048)\n",
      "12  Layer 12       (1, 4, 2048)\n",
      "13  Layer 13       (1, 4, 2048)\n",
      "14  Layer 14       (1, 4, 2048)\n",
      "15  Layer 15       (1, 4, 2048)\n",
      "16  Layer 16       (1, 4, 2048)\n",
      "17  Layer 17       (1, 4, 2048)\n",
      "18  Layer 18       (1, 4, 2048)\n",
      "19  Layer 19       (1, 4, 2048)\n",
      "20  Layer 20       (1, 4, 2048)\n",
      "21  Layer 21       (1, 4, 2048)\n",
      "22  Layer 22       (1, 4, 2048)\n",
      "23  Layer 23       (1, 4, 2048)\n",
      "24  Layer 24       (1, 4, 2048)\n",
      "\n",
      "🔍 Attention Map Shapes:\n",
      "                 Layer Attention Shape\n",
      "0    Attention Layer 0   (1, 32, 4, 4)\n",
      "1    Attention Layer 1   (1, 32, 4, 4)\n",
      "2    Attention Layer 2   (1, 32, 4, 4)\n",
      "3    Attention Layer 3   (1, 32, 4, 4)\n",
      "4    Attention Layer 4   (1, 32, 4, 4)\n",
      "5    Attention Layer 5   (1, 32, 4, 4)\n",
      "6    Attention Layer 6   (1, 32, 4, 4)\n",
      "7    Attention Layer 7   (1, 32, 4, 4)\n",
      "8    Attention Layer 8   (1, 32, 4, 4)\n",
      "9    Attention Layer 9   (1, 32, 4, 4)\n",
      "10  Attention Layer 10   (1, 32, 4, 4)\n",
      "11  Attention Layer 11   (1, 32, 4, 4)\n",
      "12  Attention Layer 12   (1, 32, 4, 4)\n",
      "13  Attention Layer 13   (1, 32, 4, 4)\n",
      "14  Attention Layer 14   (1, 32, 4, 4)\n",
      "15  Attention Layer 15   (1, 32, 4, 4)\n",
      "16  Attention Layer 16   (1, 32, 4, 4)\n",
      "17  Attention Layer 17   (1, 32, 4, 4)\n",
      "18  Attention Layer 18   (1, 32, 4, 4)\n",
      "19  Attention Layer 19   (1, 32, 4, 4)\n",
      "20  Attention Layer 20   (1, 32, 4, 4)\n",
      "21  Attention Layer 21   (1, 32, 4, 4)\n",
      "22  Attention Layer 22   (1, 32, 4, 4)\n",
      "23  Attention Layer 23   (1, 32, 4, 4)\n"
     ]
    }
   ],
   "source": [
    "print(\"\\n📦 Hidden State Shapes:\")\n",
    "print(df_hidden)\n",
    "\n",
    "print(\"\\n🔍 Attention Map Shapes:\")\n",
    "print(df_attn)"
   ]
  },
  {
   "cell_type": "code",
   "execution_count": 107,
   "id": "fa39d189-492b-467f-85a7-4d4789dc3d12",
   "metadata": {
    "scrolled": true
   },
   "outputs": [
    {
     "name": "stdout",
     "output_type": "stream",
     "text": [
      "🔤 Tokens: ['Who', 'Ġinvented', 'Ġelectricity', '?']\n"
     ]
    },
    {
     "data": {
      "image/png": "[encoded data removed]",
      "text/plain": [
       "<Figure size 800x600 with 2 Axes>"
      ]
     },
     "metadata": {},
     "output_type": "display_data"
    }
   ],
   "source": [
    "import matplotlib.pyplot as plt\n",
    "import seaborn as sns\n",
    "\n",
    "tokens = processor.tokenizer.convert_ids_to_tokens(inputs.input_ids[0])\n",
    "print(\"🔤 Tokens:\", tokens)\n",
    "\n",
    "# ✅ Choose a layer & head to visualize (e.g., Layer 0, Head 0)\n",
    "layer = 0\n",
    "head = 0\n",
    "attn = outputs.attentions[layer][0, head]  # Shape: [seq_len, seq_len]\n",
    "\n",
    "# ✅ Plot heatmap\n",
    "plt.figure(figsize=(8, 6))\n",
    "sns.heatmap(attn.cpu().numpy(), xticklabels=tokens, yticklabels=tokens, cmap=\"Blues\", annot=True, fmt=\".2f\")\n",
    "plt.title(f\"Attention Heatmap - Layer {layer}, Head {head}\")\n",
    "plt.xlabel(\"Key (Attended To)\")\n",
    "plt.ylabel(\"Query (Paying Attention)\")\n",
    "plt.tight_layout()\n",
    "plt.show()"
   ]
  },
  {
   "cell_type": "code",
   "execution_count": 55,
   "id": "284ea30f-8289-47e1-9e2a-b4b0e11ccdf0",
   "metadata": {},
   "outputs": [
    {
     "data": {
      "text/plain": [
       "Idefics3ForConditionalGeneration(\n",
       "  (model): Idefics3Model(\n",
       "    (vision_model): Idefics3VisionTransformer(\n",
       "      (embeddings): Idefics3VisionEmbeddings(\n",
       "        (patch_embedding): Conv2d(3, 1152, kernel_size=(14, 14), stride=(14, 14), padding=valid)\n",
       "        (position_embedding): Embedding(729, 1152)\n",
       "      )\n",
       "      (encoder): Idefics3Encoder(\n",
       "        (layers): ModuleList(\n",
       "          (0-26): 27 x Idefics3EncoderLayer(\n",
       "            (self_attn): Idefics3VisionAttention(\n",
       "              (k_proj): Linear(in_features=1152, out_features=1152, bias=True)\n",
       "              (v_proj): Linear(in_features=1152, out_features=1152, bias=True)\n",
       "              (q_proj): Linear(in_features=1152, out_features=1152, bias=True)\n",
       "              (out_proj): Linear(in_features=1152, out_features=1152, bias=True)\n",
       "            )\n",
       "            (layer_norm1): LayerNorm((1152,), eps=1e-06, elementwise_affine=True)\n",
       "            (mlp): Idefics3VisionMLP(\n",
       "              (activation_fn): PytorchGELUTanh()\n",
       "              (fc1): Linear(in_features=1152, out_features=4304, bias=True)\n",
       "              (fc2): Linear(in_features=4304, out_features=1152, bias=True)\n",
       "            )\n",
       "            (layer_norm2): LayerNorm((1152,), eps=1e-06, elementwise_affine=True)\n",
       "          )\n",
       "        )\n",
       "      )\n",
       "      (post_layernorm): LayerNorm((1152,), eps=1e-06, elementwise_affine=True)\n",
       "    )\n",
       "    (connector): Idefics3Connector(\n",
       "      (modality_projection): Idefics3SimpleMLP(\n",
       "        (proj): Linear(in_features=10368, out_features=2048, bias=False)\n",
       "      )\n",
       "    )\n",
       "    (text_model): LlamaModel(\n",
       "      (embed_tokens): Embedding(49155, 2048, padding_idx=2)\n",
       "      (layers): ModuleList(\n",
       "        (0-23): 24 x LlamaDecoderLayer(\n",
       "          (self_attn): LlamaAttention(\n",
       "            (q_proj): Linear(in_features=2048, out_features=2048, bias=False)\n",
       "            (k_proj): Linear(in_features=2048, out_features=2048, bias=False)\n",
       "            (v_proj): Linear(in_features=2048, out_features=2048, bias=False)\n",
       "            (o_proj): Linear(in_features=2048, out_features=2048, bias=False)\n",
       "          )\n",
       "          (mlp): LlamaMLP(\n",
       "            (gate_proj): Linear(in_features=2048, out_features=8192, bias=False)\n",
       "            (up_proj): Linear(in_features=2048, out_features=8192, bias=False)\n",
       "            (down_proj): Linear(in_features=8192, out_features=2048, bias=False)\n",
       "            (act_fn): SiLU()\n",
       "          )\n",
       "          (input_layernorm): LlamaRMSNorm((2048,), eps=1e-05)\n",
       "          (post_attention_layernorm): LlamaRMSNorm((2048,), eps=1e-05)\n",
       "        )\n",
       "      )\n",
       "      (norm): LlamaRMSNorm((2048,), eps=1e-05)\n",
       "      (rotary_emb): LlamaRotaryEmbedding()\n",
       "    )\n",
       "  )\n",
       "  (lm_head): Linear(in_features=2048, out_features=49155, bias=False)\n",
       ")"
      ]
     },
     "execution_count": 55,
     "metadata": {},
     "output_type": "execute_result"
    }
   ],
   "source": [
    "model"
   ]
  },
  {
   "cell_type": "code",
   "execution_count": null,
   "id": "e984229c-3ff5-4c59-be3e-eac043f30222",
   "metadata": {},
   "outputs": [],
   "source": []
  },
  {
   "cell_type": "code",
   "execution_count": 32,
   "id": "94919f15-34e5-4458-9ca4-15b6cf77bcd7",
   "metadata": {},
   "outputs": [
    {
     "name": "stdout",
     "output_type": "stream",
     "text": [
      "🔮 Predicted next token: \n",
      "\n"
     ]
    }
   ],
   "source": [
    "next_token_id = torch.argmax(outputs.logits[0, -1]).item()\n",
    "next_token = processor.tokenizer.decode(next_token_id)\n",
    "print(\"🔮 Predicted next token:\", next_token)"
   ]
  },
  {
   "cell_type": "code",
   "execution_count": null,
   "id": "ed7c12a8-7c37-4033-8127-fba75dd165d6",
   "metadata": {},
   "outputs": [],
   "source": []
  },
  {
   "cell_type": "code",
   "execution_count": 62,
   "id": "9497f3be-ea8e-49ad-9490-ce0aa60d9759",
   "metadata": {},
   "outputs": [
    {
     "name": "stdout",
     "output_type": "stream",
     "text": [
      "📊 Saving attention maps for 24 layers × 32 heads\n",
      "✅ Attention heatmaps saved to: ./attention_maps\n"
     ]
    }
   ],
   "source": [
    "import os\n",
    "# ✅ Create output directory\n",
    "output_dir = \"./attention_maps\"\n",
    "os.makedirs(output_dir, exist_ok=True)\n",
    "\n",
    "# ✅ Save heatmap for each layer and head\n",
    "num_layers = len(outputs.attentions)\n",
    "num_heads = outputs.attentions[0].shape[1]\n",
    "\n",
    "print(f\"📊 Saving attention maps for {num_layers} layers × {num_heads} heads\")\n",
    "\n",
    "for layer in range(num_layers):\n",
    "    for head in range(num_heads):\n",
    "        attn = outputs.attentions[layer][0, head]  # [seq_len, seq_len]\n",
    "        \n",
    "        plt.figure(figsize=(8, 6))\n",
    "        sns.heatmap(attn.numpy(), xticklabels=tokens, yticklabels=tokens, cmap=\"coolwarm\", annot=False)\n",
    "        plt.title(f\"Layer {layer} - Head {head}\")\n",
    "        plt.xlabel(\"Keys\")\n",
    "        plt.ylabel(\"Queries\")\n",
    "        plt.xticks(rotation=45)\n",
    "        plt.tight_layout()\n",
    "        \n",
    "        filename = f\"{output_dir}/attention_layer{layer}_head{head}.png\"\n",
    "        plt.savefig(filename)\n",
    "        plt.close()\n",
    "\n",
    "print(f\"✅ Attention heatmaps saved to: {output_dir}\")"
   ]
  },
  {
   "cell_type": "code",
   "execution_count": null,
   "id": "8c19ee36-9ff8-4b6d-88e1-912c6759bf56",
   "metadata": {},
   "outputs": [],
   "source": []
  }
 ],
 "metadata": {
  "kernelspec": {
   "display_name": "Python [conda env:base] *",
   "language": "python",
   "name": "conda-base-py"
  },
  "language_info": {
   "codemirror_mode": {
    "name": "ipython",
    "version": 3
   },
   "file_extension": ".py",
   "mimetype": "text/x-python",
   "name": "python",
   "nbconvert_exporter": "python",
   "pygments_lexer": "ipython3",
   "version": "3.12.7"
  }
 },
 "nbformat": 4,
 "nbformat_minor": 5
}
