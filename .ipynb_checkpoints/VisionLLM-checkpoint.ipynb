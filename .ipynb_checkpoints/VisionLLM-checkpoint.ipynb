{
 "cells": [
  {
   "cell_type": "code",
   "execution_count": 5,
   "id": "da9cb6a2-0434-4319-adff-0f1cc2bc9173",
   "metadata": {},
   "outputs": [
    {
     "name": "stdout",
     "output_type": "stream",
     "text": [
      "Channels:\n",
      " - pytorch-nightly\n",
      " - defaults\n",
      "Platform: osx-arm64\n",
      "Collecting package metadata (repodata.json): done\n",
      "Solving environment: done\n",
      "\n",
      "## Package Plan ##\n",
      "\n",
      "  environment location: /opt/anaconda3\n",
      "\n",
      "  added / updated specs:\n",
      "    - pytorch\n",
      "    - torchaudio\n",
      "    - torchvision\n",
      "\n",
      "\n",
      "The following packages will be downloaded:\n",
      "\n",
      "    package                    |            build\n",
      "    ---------------------------|-----------------\n",
      "    libjpeg-turbo-2.0.0        |       h1a28f6b_0         386 KB\n",
      "    libwebp-1.3.2              |       ha3663a8_0          86 KB\n",
      "    pytorch-2.6.0.dev20241112  |         py3.12_0        60.0 MB  pytorch-nightly\n",
      "    torchaudio-2.5.0.dev20241118|        py312_cpu         4.9 MB  pytorch-nightly\n",
      "    torchvision-0.20.0.dev20241118|        py312_cpu         7.0 MB  pytorch-nightly\n",
      "    ------------------------------------------------------------\n",
      "                                           Total:        72.4 MB\n",
      "\n",
      "The following NEW packages will be INSTALLED:\n",
      "\n",
      "  libjpeg-turbo      pkgs/main/osx-arm64::libjpeg-turbo-2.0.0-h1a28f6b_0 \n",
      "  libwebp            pkgs/main/osx-arm64::libwebp-1.3.2-ha3663a8_0 \n",
      "  pytorch            pytorch-nightly/osx-arm64::pytorch-2.6.0.dev20241112-py3.12_0 \n",
      "  torchaudio         pytorch-nightly/osx-arm64::torchaudio-2.5.0.dev20241118-py312_cpu \n",
      "  torchvision        pytorch-nightly/osx-arm64::torchvision-0.20.0.dev20241118-py312_cpu \n",
      "\n",
      "\n",
      "\n",
      "Downloading and Extracting Packages:\n",
      "pytorch-2.6.0.dev202 | 60.0 MB   |                                       |   0% \n",
      "torchvision-0.20.0.d | 7.0 MB    |                                       |   0% \u001b[A\n",
      "\n",
      "torchaudio-2.5.0.dev | 4.9 MB    |                                       |   0% \u001b[A\u001b[A\n",
      "\n",
      "\n",
      "libjpeg-turbo-2.0.0  | 386 KB    |                                       |   0% \u001b[A\u001b[A\u001b[A\n",
      "\n",
      "\n",
      "\n",
      "libwebp-1.3.2        | 86 KB     |                                       |   0% \u001b[A\u001b[A\u001b[A\u001b[A\n",
      "\n",
      "\n",
      "\n",
      "libwebp-1.3.2        | 86 KB     | ##################################### | 100% \u001b[A\u001b[A\u001b[A\u001b[A\n",
      "\n",
      "\n",
      "\n",
      "libwebp-1.3.2        | 86 KB     | ##################################### | 100% \u001b[A\u001b[A\u001b[A\u001b[A\n",
      "\n",
      "\n",
      "libjpeg-turbo-2.0.0  | 386 KB    | #####################4                |  58% \u001b[A\u001b[A\u001b[A\n",
      "\n",
      "\n",
      "libjpeg-turbo-2.0.0  | 386 KB    | ##################################### | 100% \u001b[A\u001b[A\u001b[A\n",
      "\n",
      "\n",
      "libjpeg-turbo-2.0.0  | 386 KB    | ##################################### | 100% \u001b[A\u001b[A\u001b[A\n",
      "\n",
      "torchaudio-2.5.0.dev | 4.9 MB    | ##################################### | 100% \u001b[A\u001b[A\n",
      "\n",
      "torchaudio-2.5.0.dev | 4.9 MB    | ##################################### | 100% \u001b[A\u001b[A\n",
      "torchvision-0.20.0.d | 7.0 MB    | ##################################### | 100% \u001b[A\n",
      "torchvision-0.20.0.d | 7.0 MB    | ##################################### | 100% \u001b[A\n",
      "\n",
      "torchaudio-2.5.0.dev | 4.9 MB    | ##################################### | 100% \u001b[A\u001b[A\n",
      "                                                                                \u001b[A\n",
      "                                                                                \u001b[A\n",
      "\n",
      "                                                                                \u001b[A\u001b[A\n",
      "\n",
      "\n",
      "                                                                                \u001b[A\u001b[A\u001b[A\n",
      "\n",
      "\n",
      "\n",
      "                                                                                \u001b[A\u001b[A\u001b[A\u001b[A\n",
      "Preparing transaction: done\n",
      "Verifying transaction: done\n",
      "Executing transaction: done\n"
     ]
    }
   ],
   "source": [
    "!conda install pytorch torchvision torchaudio -c pytorch-nightly -y"
   ]
  },
  {
   "cell_type": "code",
   "execution_count": 185,
   "id": "aee54312",
   "metadata": {
    "execution": {
     "iopub.execute_input": "2025-03-14T01:52:03.920646Z",
     "iopub.status.busy": "2025-03-14T01:52:03.920049Z",
     "iopub.status.idle": "2025-03-14T01:52:03.926919Z",
     "shell.execute_reply": "2025-03-14T01:52:03.926021Z",
     "shell.execute_reply.started": "2025-03-14T01:52:03.920605Z"
    }
   },
   "outputs": [
    {
     "name": "stdout",
     "output_type": "stream",
     "text": [
      "2.6.0.dev20241112\n"
     ]
    }
   ],
   "source": [
    "import torch\n",
    "import pandas as pd\n",
    "import numpy as np\n",
    "import matplotlib.pyplot as plt\n",
    "print(torch.__version__)"
   ]
  },
  {
   "cell_type": "code",
   "execution_count": 187,
   "id": "017f7970",
   "metadata": {
    "execution": {
     "iopub.execute_input": "2025-03-14T01:52:04.444573Z",
     "iopub.status.busy": "2025-03-14T01:52:04.444234Z",
     "iopub.status.idle": "2025-03-14T01:52:04.459177Z",
     "shell.execute_reply": "2025-03-14T01:52:04.458419Z",
     "shell.execute_reply.started": "2025-03-14T01:52:04.444553Z"
    }
   },
   "outputs": [
    {
     "name": "stdout",
     "output_type": "stream",
     "text": [
      "tensor([1.], device='mps:0')\n"
     ]
    }
   ],
   "source": [
    "if torch.backends.mps.is_available():\n",
    "    mps_device = torch.device(\"mps\")\n",
    "    x = torch.ones(1, device=mps_device)\n",
    "    print (x)\n",
    "else:\n",
    "    print (\"MPS device not found.\")"
   ]
  },
  {
   "cell_type": "markdown",
   "id": "47f160aa-fcfc-4ce7-8a49-c562f7e00b42",
   "metadata": {},
   "source": [
    "## Scalar | Vector | Tensor"
   ]
  },
  {
   "cell_type": "code",
   "execution_count": 190,
   "id": "cd1e532c-94b0-4c2f-ab4a-f3038a316d1d",
   "metadata": {
    "execution": {
     "iopub.execute_input": "2025-03-14T01:52:05.183406Z",
     "iopub.status.busy": "2025-03-14T01:52:05.183039Z",
     "iopub.status.idle": "2025-03-14T01:52:05.188344Z",
     "shell.execute_reply": "2025-03-14T01:52:05.187518Z",
     "shell.execute_reply.started": "2025-03-14T01:52:05.183382Z"
    }
   },
   "outputs": [
    {
     "data": {
      "text/plain": [
       "tensor(7)"
      ]
     },
     "execution_count": 190,
     "metadata": {},
     "output_type": "execute_result"
    }
   ],
   "source": [
    "#Scalar\n",
    "scalar = torch.tensor(7)\n",
    "scalar"
   ]
  },
  {
   "cell_type": "code",
   "execution_count": 192,
   "id": "6b84800b-dd38-4d88-95f9-63ed27a90e12",
   "metadata": {
    "execution": {
     "iopub.execute_input": "2025-03-14T01:52:05.451143Z",
     "iopub.status.busy": "2025-03-14T01:52:05.450537Z",
     "iopub.status.idle": "2025-03-14T01:52:05.458041Z",
     "shell.execute_reply": "2025-03-14T01:52:05.457112Z",
     "shell.execute_reply.started": "2025-03-14T01:52:05.451101Z"
    }
   },
   "outputs": [
    {
     "data": {
      "text/plain": [
       "0"
      ]
     },
     "execution_count": 192,
     "metadata": {},
     "output_type": "execute_result"
    }
   ],
   "source": [
    "scalar.ndim"
   ]
  },
  {
   "cell_type": "code",
   "execution_count": 194,
   "id": "ae72791d-58ef-48ff-8747-22a4d0943c49",
   "metadata": {
    "execution": {
     "iopub.execute_input": "2025-03-14T01:52:05.707521Z",
     "iopub.status.busy": "2025-03-14T01:52:05.706932Z",
     "iopub.status.idle": "2025-03-14T01:52:05.714385Z",
     "shell.execute_reply": "2025-03-14T01:52:05.713366Z",
     "shell.execute_reply.started": "2025-03-14T01:52:05.707479Z"
    }
   },
   "outputs": [
    {
     "data": {
      "text/plain": [
       "7"
      ]
     },
     "execution_count": 194,
     "metadata": {},
     "output_type": "execute_result"
    }
   ],
   "source": [
    "scalar.item()"
   ]
  },
  {
   "cell_type": "code",
   "execution_count": 196,
   "id": "46886097-057a-4d70-8f50-469b97e97d77",
   "metadata": {
    "execution": {
     "iopub.execute_input": "2025-03-14T01:52:05.913456Z",
     "iopub.status.busy": "2025-03-14T01:52:05.912877Z",
     "iopub.status.idle": "2025-03-14T01:52:05.921248Z",
     "shell.execute_reply": "2025-03-14T01:52:05.920649Z",
     "shell.execute_reply.started": "2025-03-14T01:52:05.913415Z"
    }
   },
   "outputs": [
    {
     "data": {
      "text/plain": [
       "tensor([7, 7])"
      ]
     },
     "execution_count": 196,
     "metadata": {},
     "output_type": "execute_result"
    }
   ],
   "source": [
    "#Vector\n",
    "vector = torch.tensor([7, 7])\n",
    "vector"
   ]
  },
  {
   "cell_type": "code",
   "execution_count": 198,
   "id": "2968d0e3-f9ea-4629-bab9-6fa67f1203b2",
   "metadata": {
    "execution": {
     "iopub.execute_input": "2025-03-14T01:52:06.127650Z",
     "iopub.status.busy": "2025-03-14T01:52:06.127070Z",
     "iopub.status.idle": "2025-03-14T01:52:06.135142Z",
     "shell.execute_reply": "2025-03-14T01:52:06.133662Z",
     "shell.execute_reply.started": "2025-03-14T01:52:06.127609Z"
    }
   },
   "outputs": [
    {
     "data": {
      "text/plain": [
       "1"
      ]
     },
     "execution_count": 198,
     "metadata": {},
     "output_type": "execute_result"
    }
   ],
   "source": [
    "vector.ndim"
   ]
  },
  {
   "cell_type": "code",
   "execution_count": 200,
   "id": "b9b45ae1-8da6-49ba-97f2-1c6bd394c252",
   "metadata": {
    "execution": {
     "iopub.execute_input": "2025-03-14T01:52:06.341861Z",
     "iopub.status.busy": "2025-03-14T01:52:06.341234Z",
     "iopub.status.idle": "2025-03-14T01:52:06.348937Z",
     "shell.execute_reply": "2025-03-14T01:52:06.347868Z",
     "shell.execute_reply.started": "2025-03-14T01:52:06.341815Z"
    }
   },
   "outputs": [
    {
     "data": {
      "text/plain": [
       "torch.Size([2])"
      ]
     },
     "execution_count": 200,
     "metadata": {},
     "output_type": "execute_result"
    }
   ],
   "source": [
    "vector.shape"
   ]
  },
  {
   "cell_type": "code",
   "execution_count": 202,
   "id": "02ebb4df-2441-4223-bf9a-bf2b9b122c50",
   "metadata": {
    "execution": {
     "iopub.execute_input": "2025-03-14T01:52:06.558471Z",
     "iopub.status.busy": "2025-03-14T01:52:06.557721Z",
     "iopub.status.idle": "2025-03-14T01:52:06.566764Z",
     "shell.execute_reply": "2025-03-14T01:52:06.565870Z",
     "shell.execute_reply.started": "2025-03-14T01:52:06.558424Z"
    }
   },
   "outputs": [
    {
     "data": {
      "text/plain": [
       "tensor([[ 7,  8],\n",
       "        [ 9, 10]])"
      ]
     },
     "execution_count": 202,
     "metadata": {},
     "output_type": "execute_result"
    }
   ],
   "source": [
    "#Matrix\n",
    "MATRIX = torch.tensor([[7, 8],\n",
    "                       [9, 10]])\n",
    "MATRIX"
   ]
  },
  {
   "cell_type": "code",
   "execution_count": 204,
   "id": "5c4ce103-23a0-425d-8f33-e7cc6dfd4603",
   "metadata": {
    "execution": {
     "iopub.execute_input": "2025-03-14T01:52:06.773354Z",
     "iopub.status.busy": "2025-03-14T01:52:06.772772Z",
     "iopub.status.idle": "2025-03-14T01:52:06.780377Z",
     "shell.execute_reply": "2025-03-14T01:52:06.779331Z",
     "shell.execute_reply.started": "2025-03-14T01:52:06.773312Z"
    }
   },
   "outputs": [
    {
     "data": {
      "text/plain": [
       "2"
      ]
     },
     "execution_count": 204,
     "metadata": {},
     "output_type": "execute_result"
    }
   ],
   "source": [
    "MATRIX.ndim"
   ]
  },
  {
   "cell_type": "code",
   "execution_count": 206,
   "id": "52e807d5-3cde-458f-ae3c-1b63b255e483",
   "metadata": {
    "execution": {
     "iopub.execute_input": "2025-03-14T01:52:07.008419Z",
     "iopub.status.busy": "2025-03-14T01:52:07.007842Z",
     "iopub.status.idle": "2025-03-14T01:52:07.016008Z",
     "shell.execute_reply": "2025-03-14T01:52:07.015150Z",
     "shell.execute_reply.started": "2025-03-14T01:52:07.008378Z"
    }
   },
   "outputs": [
    {
     "data": {
      "text/plain": [
       "tensor([ 9, 10])"
      ]
     },
     "execution_count": 206,
     "metadata": {},
     "output_type": "execute_result"
    }
   ],
   "source": [
    "MATRIX[1]"
   ]
  },
  {
   "cell_type": "code",
   "execution_count": 208,
   "id": "a571d3a2-2c66-437a-89b3-ca482c37c3a9",
   "metadata": {
    "execution": {
     "iopub.execute_input": "2025-03-14T01:52:07.261970Z",
     "iopub.status.busy": "2025-03-14T01:52:07.261372Z",
     "iopub.status.idle": "2025-03-14T01:52:07.268460Z",
     "shell.execute_reply": "2025-03-14T01:52:07.267656Z",
     "shell.execute_reply.started": "2025-03-14T01:52:07.261928Z"
    }
   },
   "outputs": [
    {
     "data": {
      "text/plain": [
       "torch.Size([2, 2])"
      ]
     },
     "execution_count": 208,
     "metadata": {},
     "output_type": "execute_result"
    }
   ],
   "source": [
    "MATRIX.shape"
   ]
  },
  {
   "cell_type": "code",
   "execution_count": 210,
   "id": "415430e9-d5ed-4ce8-b241-ba20f293e9f4",
   "metadata": {
    "execution": {
     "iopub.execute_input": "2025-03-14T01:52:07.676643Z",
     "iopub.status.busy": "2025-03-14T01:52:07.676307Z",
     "iopub.status.idle": "2025-03-14T01:52:07.683575Z",
     "shell.execute_reply": "2025-03-14T01:52:07.682683Z",
     "shell.execute_reply.started": "2025-03-14T01:52:07.676622Z"
    }
   },
   "outputs": [
    {
     "data": {
      "text/plain": [
       "tensor([[[1, 2, 3],\n",
       "         [4, 5, 6],\n",
       "         [7, 8, 9]]])"
      ]
     },
     "execution_count": 210,
     "metadata": {},
     "output_type": "execute_result"
    }
   ],
   "source": [
    "#Tensor\n",
    "TENSOR = torch.tensor([[[1,2,3],[4,5,6], [7,8,9]]])\n",
    "TENSOR"
   ]
  },
  {
   "cell_type": "code",
   "execution_count": 212,
   "id": "530597d1-c88c-4361-94cf-61c2687a607f",
   "metadata": {
    "execution": {
     "iopub.execute_input": "2025-03-14T01:52:08.136935Z",
     "iopub.status.busy": "2025-03-14T01:52:08.136312Z",
     "iopub.status.idle": "2025-03-14T01:52:08.144061Z",
     "shell.execute_reply": "2025-03-14T01:52:08.142959Z",
     "shell.execute_reply.started": "2025-03-14T01:52:08.136894Z"
    }
   },
   "outputs": [
    {
     "data": {
      "text/plain": [
       "3"
      ]
     },
     "execution_count": 212,
     "metadata": {},
     "output_type": "execute_result"
    }
   ],
   "source": [
    "TENSOR.ndim"
   ]
  },
  {
   "cell_type": "code",
   "execution_count": 214,
   "id": "c72ff8b8-7d50-4bc1-b0fa-2b29c1d0be8b",
   "metadata": {
    "execution": {
     "iopub.execute_input": "2025-03-14T01:52:08.577218Z",
     "iopub.status.busy": "2025-03-14T01:52:08.576670Z",
     "iopub.status.idle": "2025-03-14T01:52:08.581843Z",
     "shell.execute_reply": "2025-03-14T01:52:08.580964Z",
     "shell.execute_reply.started": "2025-03-14T01:52:08.577195Z"
    }
   },
   "outputs": [
    {
     "data": {
      "text/plain": [
       "torch.Size([1, 3, 3])"
      ]
     },
     "execution_count": 214,
     "metadata": {},
     "output_type": "execute_result"
    }
   ],
   "source": [
    "TENSOR.shape"
   ]
  },
  {
   "cell_type": "markdown",
   "id": "e7870d2d-95ad-4894-9655-9a6c8ddf2967",
   "metadata": {},
   "source": [
    "## Random Tensors"
   ]
  },
  {
   "cell_type": "code",
   "execution_count": 217,
   "id": "ceb94d58-933d-4075-bbe0-2d5d5aebccdd",
   "metadata": {
    "execution": {
     "iopub.execute_input": "2025-03-14T01:52:09.342426Z",
     "iopub.status.busy": "2025-03-14T01:52:09.341780Z",
     "iopub.status.idle": "2025-03-14T01:52:09.349012Z",
     "shell.execute_reply": "2025-03-14T01:52:09.348287Z",
     "shell.execute_reply.started": "2025-03-14T01:52:09.342395Z"
    }
   },
   "outputs": [
    {
     "data": {
      "text/plain": [
       "tensor([[0.7936, 0.3407, 0.1374, 0.0061],\n",
       "        [0.6444, 0.7230, 0.8844, 0.3629],\n",
       "        [0.0813, 0.9026, 0.4589, 0.6702]])"
      ]
     },
     "execution_count": 217,
     "metadata": {},
     "output_type": "execute_result"
    }
   ],
   "source": [
    "random_tensor = torch.rand(3, 4)\n",
    "random_tensor"
   ]
  },
  {
   "cell_type": "code",
   "execution_count": 219,
   "id": "1b2b9632-3589-44d6-a6d9-f88eec193889",
   "metadata": {
    "execution": {
     "iopub.execute_input": "2025-03-14T01:52:09.563986Z",
     "iopub.status.busy": "2025-03-14T01:52:09.563665Z",
     "iopub.status.idle": "2025-03-14T01:52:09.571616Z",
     "shell.execute_reply": "2025-03-14T01:52:09.571046Z",
     "shell.execute_reply.started": "2025-03-14T01:52:09.563965Z"
    }
   },
   "outputs": [
    {
     "data": {
      "text/plain": [
       "(torch.Size([3, 224, 224]), 3)"
      ]
     },
     "execution_count": 219,
     "metadata": {},
     "output_type": "execute_result"
    }
   ],
   "source": [
    "random_image_size_tensor = torch.rand(size=(3, 224, 224))\n",
    "random_image_size_tensor.shape, random_image_size_tensor.ndim"
   ]
  },
  {
   "cell_type": "code",
   "execution_count": 221,
   "id": "4175d4de-b55a-42a1-b6bd-131bde1e7f30",
   "metadata": {
    "execution": {
     "iopub.execute_input": "2025-03-14T01:52:09.793712Z",
     "iopub.status.busy": "2025-03-14T01:52:09.793131Z",
     "iopub.status.idle": "2025-03-14T01:52:09.801358Z",
     "shell.execute_reply": "2025-03-14T01:52:09.800538Z",
     "shell.execute_reply.started": "2025-03-14T01:52:09.793672Z"
    }
   },
   "outputs": [
    {
     "data": {
      "text/plain": [
       "tensor([[0., 0., 0., 0.],\n",
       "        [0., 0., 0., 0.],\n",
       "        [0., 0., 0., 0.]])"
      ]
     },
     "execution_count": 221,
     "metadata": {},
     "output_type": "execute_result"
    }
   ],
   "source": [
    "# Zeros and Ones\n",
    "zeros = torch.zeros(3,4)\n",
    "zeros"
   ]
  },
  {
   "cell_type": "code",
   "execution_count": 223,
   "id": "b213c99a-dc0e-4f2e-b86b-7fe214422b86",
   "metadata": {
    "execution": {
     "iopub.execute_input": "2025-03-14T01:52:10.022353Z",
     "iopub.status.busy": "2025-03-14T01:52:10.021763Z",
     "iopub.status.idle": "2025-03-14T01:52:10.030513Z",
     "shell.execute_reply": "2025-03-14T01:52:10.029705Z",
     "shell.execute_reply.started": "2025-03-14T01:52:10.022312Z"
    }
   },
   "outputs": [
    {
     "data": {
      "text/plain": [
       "tensor([[1., 1., 1., 1.],\n",
       "        [1., 1., 1., 1.],\n",
       "        [1., 1., 1., 1.]])"
      ]
     },
     "execution_count": 223,
     "metadata": {},
     "output_type": "execute_result"
    }
   ],
   "source": [
    "ones = torch.ones(3,4)\n",
    "ones"
   ]
  },
  {
   "cell_type": "code",
   "execution_count": 225,
   "id": "44010631-0a12-4dc7-aa4f-342eb424310b",
   "metadata": {
    "execution": {
     "iopub.execute_input": "2025-03-14T01:52:10.460861Z",
     "iopub.status.busy": "2025-03-14T01:52:10.460523Z",
     "iopub.status.idle": "2025-03-14T01:52:10.465082Z",
     "shell.execute_reply": "2025-03-14T01:52:10.464311Z",
     "shell.execute_reply.started": "2025-03-14T01:52:10.460840Z"
    }
   },
   "outputs": [
    {
     "data": {
      "text/plain": [
       "torch.float32"
      ]
     },
     "execution_count": 225,
     "metadata": {},
     "output_type": "execute_result"
    }
   ],
   "source": [
    "ones.dtype"
   ]
  },
  {
   "cell_type": "code",
   "execution_count": 227,
   "id": "2afd717a-b2e9-4ce5-bbd5-44bda3c37364",
   "metadata": {
    "execution": {
     "iopub.execute_input": "2025-03-14T01:52:10.821176Z",
     "iopub.status.busy": "2025-03-14T01:52:10.820583Z",
     "iopub.status.idle": "2025-03-14T01:52:10.828567Z",
     "shell.execute_reply": "2025-03-14T01:52:10.827819Z",
     "shell.execute_reply.started": "2025-03-14T01:52:10.821133Z"
    }
   },
   "outputs": [
    {
     "data": {
      "text/plain": [
       "tensor([  1,  51, 101, 151, 201, 251, 301, 351, 401, 451, 501, 551, 601, 651,\n",
       "        701, 751, 801, 851, 901, 951])"
      ]
     },
     "execution_count": 227,
     "metadata": {},
     "output_type": "execute_result"
    }
   ],
   "source": [
    "torch.arange(start=1,end=1000,step=50)"
   ]
  },
  {
   "cell_type": "code",
   "execution_count": 229,
   "id": "b977db38-015b-4e7f-bfdb-f9074c643161",
   "metadata": {
    "execution": {
     "iopub.execute_input": "2025-03-14T01:52:11.210135Z",
     "iopub.status.busy": "2025-03-14T01:52:11.209779Z",
     "iopub.status.idle": "2025-03-14T01:52:11.215756Z",
     "shell.execute_reply": "2025-03-14T01:52:11.215154Z",
     "shell.execute_reply.started": "2025-03-14T01:52:11.210112Z"
    }
   },
   "outputs": [
    {
     "data": {
      "text/plain": [
       "tensor([3, 6, 9])"
      ]
     },
     "execution_count": 229,
     "metadata": {},
     "output_type": "execute_result"
    }
   ],
   "source": [
    "float_32_tensor = torch.tensor([3,6,9], dtype=None, device=None, requires_grad=False)\n",
    "float_32_tensor"
   ]
  },
  {
   "cell_type": "code",
   "execution_count": 231,
   "id": "27810f0a-ce7d-4f78-9275-0c40cb4a93c6",
   "metadata": {
    "execution": {
     "iopub.execute_input": "2025-03-14T01:52:11.659745Z",
     "iopub.status.busy": "2025-03-14T01:52:11.659407Z",
     "iopub.status.idle": "2025-03-14T01:52:11.666666Z",
     "shell.execute_reply": "2025-03-14T01:52:11.665304Z",
     "shell.execute_reply.started": "2025-03-14T01:52:11.659723Z"
    }
   },
   "outputs": [
    {
     "data": {
      "text/plain": [
       "torch.int64"
      ]
     },
     "execution_count": 231,
     "metadata": {},
     "output_type": "execute_result"
    }
   ],
   "source": [
    "float_32_tensor.dtype"
   ]
  },
  {
   "cell_type": "code",
   "execution_count": 233,
   "id": "007484cd-bec7-43e7-ad7a-14384065129e",
   "metadata": {
    "execution": {
     "iopub.execute_input": "2025-03-14T01:52:11.918254Z",
     "iopub.status.busy": "2025-03-14T01:52:11.918094Z",
     "iopub.status.idle": "2025-03-14T01:52:11.921745Z",
     "shell.execute_reply": "2025-03-14T01:52:11.921322Z",
     "shell.execute_reply.started": "2025-03-14T01:52:11.918243Z"
    }
   },
   "outputs": [
    {
     "data": {
      "text/plain": [
       "tensor([ 9, 36, 81])"
      ]
     },
     "execution_count": 233,
     "metadata": {},
     "output_type": "execute_result"
    }
   ],
   "source": [
    "float_32_tensor*float_32_tensor"
   ]
  },
  {
   "cell_type": "code",
   "execution_count": 235,
   "id": "3e552eef-8655-4dde-96d8-7a28b9094888",
   "metadata": {
    "execution": {
     "iopub.execute_input": "2025-03-14T01:52:12.177489Z",
     "iopub.status.busy": "2025-03-14T01:52:12.177326Z",
     "iopub.status.idle": "2025-03-14T01:52:12.180673Z",
     "shell.execute_reply": "2025-03-14T01:52:12.180342Z",
     "shell.execute_reply.started": "2025-03-14T01:52:12.177478Z"
    }
   },
   "outputs": [
    {
     "data": {
      "text/plain": [
       "tensor([[0.3658, 0.7063, 0.7536, 0.3746],\n",
       "        [0.9741, 0.3239, 0.9929, 0.8266],\n",
       "        [0.2936, 0.1113, 0.9666, 0.9590]])"
      ]
     },
     "execution_count": 235,
     "metadata": {},
     "output_type": "execute_result"
    }
   ],
   "source": [
    "some_tensor = torch.rand(3,4)\n",
    "some_tensor"
   ]
  },
  {
   "cell_type": "code",
   "execution_count": 237,
   "id": "3652b107-f939-4564-b255-3753be14b7d3",
   "metadata": {
    "execution": {
     "iopub.execute_input": "2025-03-14T01:52:12.660012Z",
     "iopub.status.busy": "2025-03-14T01:52:12.659659Z",
     "iopub.status.idle": "2025-03-14T01:52:12.666251Z",
     "shell.execute_reply": "2025-03-14T01:52:12.665233Z",
     "shell.execute_reply.started": "2025-03-14T01:52:12.659991Z"
    }
   },
   "outputs": [
    {
     "name": "stdout",
     "output_type": "stream",
     "text": [
      "tensor([[0.3658, 0.7063, 0.7536, 0.3746],\n",
      "        [0.9741, 0.3239, 0.9929, 0.8266],\n",
      "        [0.2936, 0.1113, 0.9666, 0.9590]])\n",
      "Datatype of tensor : torch.float32\n",
      "Shape of tensor : torch.Size([3, 4])\n",
      "Device tensor is on : cpu\n"
     ]
    }
   ],
   "source": [
    "print(some_tensor)\n",
    "print(f\"Datatype of tensor : {some_tensor.dtype}\")\n",
    "print(f\"Shape of tensor : {some_tensor.size()}\")\n",
    "print(f\"Device tensor is on : {some_tensor.device}\")"
   ]
  },
  {
   "cell_type": "markdown",
   "id": "a4740679-d520-46c1-941b-e289a48a9193",
   "metadata": {},
   "source": [
    "## Manipulation Tensor"
   ]
  },
  {
   "cell_type": "code",
   "execution_count": 240,
   "id": "c7ad3a6d-1bb3-4cba-95b0-f79b700a2a91",
   "metadata": {
    "execution": {
     "iopub.execute_input": "2025-03-14T01:52:13.460606Z",
     "iopub.status.busy": "2025-03-14T01:52:13.460273Z",
     "iopub.status.idle": "2025-03-14T01:52:13.466580Z",
     "shell.execute_reply": "2025-03-14T01:52:13.466047Z",
     "shell.execute_reply.started": "2025-03-14T01:52:13.460585Z"
    }
   },
   "outputs": [
    {
     "data": {
      "text/plain": [
       "tensor([11, 12, 13])"
      ]
     },
     "execution_count": 240,
     "metadata": {},
     "output_type": "execute_result"
    }
   ],
   "source": [
    "tensor = torch.tensor([1, 2, 3])\n",
    "tensor + 10"
   ]
  },
  {
   "cell_type": "code",
   "execution_count": 242,
   "id": "c77c8d87-1e2d-4433-a329-885af5ca83f9",
   "metadata": {
    "execution": {
     "iopub.execute_input": "2025-03-14T01:52:14.002769Z",
     "iopub.status.busy": "2025-03-14T01:52:14.002058Z",
     "iopub.status.idle": "2025-03-14T01:52:14.010113Z",
     "shell.execute_reply": "2025-03-14T01:52:14.009452Z",
     "shell.execute_reply.started": "2025-03-14T01:52:14.002723Z"
    }
   },
   "outputs": [
    {
     "data": {
      "text/plain": [
       "tensor([10, 20, 30])"
      ]
     },
     "execution_count": 242,
     "metadata": {},
     "output_type": "execute_result"
    }
   ],
   "source": [
    "tensor * 10"
   ]
  },
  {
   "cell_type": "code",
   "execution_count": 244,
   "id": "7b3df358-83d4-4b0c-a4dd-d8059e7149a9",
   "metadata": {
    "execution": {
     "iopub.execute_input": "2025-03-14T01:52:14.479839Z",
     "iopub.status.busy": "2025-03-14T01:52:14.479323Z",
     "iopub.status.idle": "2025-03-14T01:52:14.487531Z",
     "shell.execute_reply": "2025-03-14T01:52:14.486598Z",
     "shell.execute_reply.started": "2025-03-14T01:52:14.479798Z"
    }
   },
   "outputs": [
    {
     "data": {
      "text/plain": [
       "tensor([0, 1, 2])"
      ]
     },
     "execution_count": 244,
     "metadata": {},
     "output_type": "execute_result"
    }
   ],
   "source": [
    "tensor - 1"
   ]
  },
  {
   "cell_type": "code",
   "execution_count": 246,
   "id": "4f1b2862-af71-4e0a-a57e-3570d4204296",
   "metadata": {
    "execution": {
     "iopub.execute_input": "2025-03-14T01:52:15.009952Z",
     "iopub.status.busy": "2025-03-14T01:52:15.009613Z",
     "iopub.status.idle": "2025-03-14T01:52:15.018262Z",
     "shell.execute_reply": "2025-03-14T01:52:15.017163Z",
     "shell.execute_reply.started": "2025-03-14T01:52:15.009931Z"
    }
   },
   "outputs": [
    {
     "data": {
      "text/plain": [
       "tensor([10, 20, 30])"
      ]
     },
     "execution_count": 246,
     "metadata": {},
     "output_type": "execute_result"
    }
   ],
   "source": [
    "torch.mul(tensor, 10)"
   ]
  },
  {
   "cell_type": "code",
   "execution_count": 248,
   "id": "4d69eb46-ba4c-4c79-bc28-bf615abd7890",
   "metadata": {
    "execution": {
     "iopub.execute_input": "2025-03-14T01:52:15.327219Z",
     "iopub.status.busy": "2025-03-14T01:52:15.326624Z",
     "iopub.status.idle": "2025-03-14T01:52:15.334281Z",
     "shell.execute_reply": "2025-03-14T01:52:15.333592Z",
     "shell.execute_reply.started": "2025-03-14T01:52:15.327177Z"
    }
   },
   "outputs": [
    {
     "data": {
      "text/plain": [
       "tensor([11, 12, 13])"
      ]
     },
     "execution_count": 248,
     "metadata": {},
     "output_type": "execute_result"
    }
   ],
   "source": [
    "torch.add(tensor, 10)"
   ]
  },
  {
   "cell_type": "markdown",
   "id": "decf95a3-c665-4f5b-bb71-cc1cd006dcf8",
   "metadata": {},
   "source": [
    "### Matrix Multiplication"
   ]
  },
  {
   "cell_type": "code",
   "execution_count": 251,
   "id": "197d86d8-1d58-47db-87e1-91a1ec3bc9f9",
   "metadata": {
    "execution": {
     "iopub.execute_input": "2025-03-14T01:52:16.162067Z",
     "iopub.status.busy": "2025-03-14T01:52:16.161729Z",
     "iopub.status.idle": "2025-03-14T01:52:16.167482Z",
     "shell.execute_reply": "2025-03-14T01:52:16.166436Z",
     "shell.execute_reply.started": "2025-03-14T01:52:16.162047Z"
    }
   },
   "outputs": [
    {
     "data": {
      "text/plain": [
       "tensor([1, 4, 9])"
      ]
     },
     "execution_count": 251,
     "metadata": {},
     "output_type": "execute_result"
    }
   ],
   "source": [
    "# Element wise\n",
    "tensor * tensor"
   ]
  },
  {
   "cell_type": "code",
   "execution_count": 253,
   "id": "78956e92-b9da-4464-820b-cc20474fe134",
   "metadata": {
    "execution": {
     "iopub.execute_input": "2025-03-14T01:52:16.560881Z",
     "iopub.status.busy": "2025-03-14T01:52:16.560544Z",
     "iopub.status.idle": "2025-03-14T01:52:16.567792Z",
     "shell.execute_reply": "2025-03-14T01:52:16.566939Z",
     "shell.execute_reply.started": "2025-03-14T01:52:16.560860Z"
    }
   },
   "outputs": [
    {
     "data": {
      "text/plain": [
       "tensor(14)"
      ]
     },
     "execution_count": 253,
     "metadata": {},
     "output_type": "execute_result"
    }
   ],
   "source": [
    "torch.matmul(tensor,tensor)"
   ]
  },
  {
   "cell_type": "code",
   "execution_count": 255,
   "id": "a2aabd01-4690-48f2-9858-25420a0a4e2c",
   "metadata": {
    "execution": {
     "iopub.execute_input": "2025-03-14T01:52:16.976246Z",
     "iopub.status.busy": "2025-03-14T01:52:16.975894Z",
     "iopub.status.idle": "2025-03-14T01:52:16.984305Z",
     "shell.execute_reply": "2025-03-14T01:52:16.983339Z",
     "shell.execute_reply.started": "2025-03-14T01:52:16.976223Z"
    }
   },
   "outputs": [
    {
     "data": {
      "text/plain": [
       "(tensor([[0.5856, 0.6208, 0.5260],\n",
       "         [0.6534, 0.3648, 0.4439],\n",
       "         [0.3303, 0.2824, 0.8368]]),\n",
       " tensor([[0.4687, 0.2097, 0.1181],\n",
       "         [0.3855, 0.8595, 0.9353],\n",
       "         [0.5078, 0.5033, 0.4037]]))"
      ]
     },
     "execution_count": 255,
     "metadata": {},
     "output_type": "execute_result"
    }
   ],
   "source": [
    "ele1 = torch.rand(3,3)\n",
    "ele2 = torch.rand(3,3)\n",
    "ele1, ele2"
   ]
  },
  {
   "cell_type": "code",
   "execution_count": 257,
   "id": "7e2a9d76-ab99-4c23-914e-f5d106317df7",
   "metadata": {
    "execution": {
     "iopub.execute_input": "2025-03-14T01:52:17.335929Z",
     "iopub.status.busy": "2025-03-14T01:52:17.335512Z",
     "iopub.status.idle": "2025-03-14T01:52:17.342292Z",
     "shell.execute_reply": "2025-03-14T01:52:17.341355Z",
     "shell.execute_reply.started": "2025-03-14T01:52:17.335892Z"
    }
   },
   "outputs": [
    {
     "data": {
      "text/plain": [
       "tensor([[0.7809, 0.9211, 0.8621],\n",
       "        [0.6723, 0.6740, 0.5976],\n",
       "        [0.6886, 0.7332, 0.6409]])"
      ]
     },
     "execution_count": 257,
     "metadata": {},
     "output_type": "execute_result"
    }
   ],
   "source": [
    "torch.matmul(ele1,ele2)"
   ]
  },
  {
   "cell_type": "code",
   "execution_count": 259,
   "id": "628000cc-915f-48b2-88be-17d10d847efe",
   "metadata": {
    "execution": {
     "iopub.execute_input": "2025-03-14T01:52:17.796036Z",
     "iopub.status.busy": "2025-03-14T01:52:17.795707Z",
     "iopub.status.idle": "2025-03-14T01:52:17.801548Z",
     "shell.execute_reply": "2025-03-14T01:52:17.800449Z",
     "shell.execute_reply.started": "2025-03-14T01:52:17.796015Z"
    }
   },
   "outputs": [
    {
     "name": "stdout",
     "output_type": "stream",
     "text": [
      "tensor(14)\n"
     ]
    }
   ],
   "source": [
    "value = 0\n",
    "for i in range(len(tensor)):\n",
    "    value += tensor[i] * tensor[i]\n",
    "print(value)"
   ]
  },
  {
   "cell_type": "code",
   "execution_count": 261,
   "id": "0b87a7df-e37c-460d-be1b-ec20cf995da9",
   "metadata": {
    "execution": {
     "iopub.execute_input": "2025-03-14T01:52:18.268231Z",
     "iopub.status.busy": "2025-03-14T01:52:18.267614Z",
     "iopub.status.idle": "2025-03-14T01:52:18.276392Z",
     "shell.execute_reply": "2025-03-14T01:52:18.275704Z",
     "shell.execute_reply.started": "2025-03-14T01:52:18.268188Z"
    }
   },
   "outputs": [
    {
     "data": {
      "text/plain": [
       "tensor(14)"
      ]
     },
     "execution_count": 261,
     "metadata": {},
     "output_type": "execute_result"
    }
   ],
   "source": [
    "torch.matmul(tensor,tensor)"
   ]
  },
  {
   "cell_type": "code",
   "execution_count": 263,
   "id": "220b079e-d827-4096-a837-aad585615e4c",
   "metadata": {
    "execution": {
     "iopub.execute_input": "2025-03-14T01:52:18.711409Z",
     "iopub.status.busy": "2025-03-14T01:52:18.711067Z",
     "iopub.status.idle": "2025-03-14T01:52:18.716067Z",
     "shell.execute_reply": "2025-03-14T01:52:18.715359Z",
     "shell.execute_reply.started": "2025-03-14T01:52:18.711389Z"
    }
   },
   "outputs": [
    {
     "data": {
      "text/plain": [
       "tensor(14)"
      ]
     },
     "execution_count": 263,
     "metadata": {},
     "output_type": "execute_result"
    }
   ],
   "source": [
    "tensor @ tensor"
   ]
  },
  {
   "cell_type": "code",
   "execution_count": 266,
   "id": "57351558-9969-4e26-9fcf-e87d5c9d0a04",
   "metadata": {
    "execution": {
     "iopub.execute_input": "2025-03-14T01:55:18.539165Z",
     "iopub.status.busy": "2025-03-14T01:55:18.538601Z",
     "iopub.status.idle": "2025-03-14T01:55:18.544550Z",
     "shell.execute_reply": "2025-03-14T01:55:18.543927Z",
     "shell.execute_reply.started": "2025-03-14T01:55:18.539126Z"
    }
   },
   "outputs": [],
   "source": [
    "tensoe_A = torch.tensor([[1,2],[3,4],[5,6]])\n",
    "tensoe_B = torch.tensor([[7,10], [8, 11], [9, 12]])"
   ]
  },
  {
   "cell_type": "code",
   "execution_count": 270,
   "id": "2956983d-6236-456a-8cb9-148f6885382b",
   "metadata": {
    "execution": {
     "iopub.execute_input": "2025-03-14T01:59:06.767370Z",
     "iopub.status.busy": "2025-03-14T01:59:06.766791Z",
     "iopub.status.idle": "2025-03-14T01:59:06.775695Z",
     "shell.execute_reply": "2025-03-14T01:59:06.775046Z",
     "shell.execute_reply.started": "2025-03-14T01:59:06.767330Z"
    }
   },
   "outputs": [
    {
     "data": {
      "text/plain": [
       "tensor([[194, 266],\n",
       "        [266, 365]])"
      ]
     },
     "execution_count": 270,
     "metadata": {},
     "output_type": "execute_result"
    }
   ],
   "source": [
    "tensoe_B.T @ tensoe_B"
   ]
  },
  {
   "cell_type": "markdown",
   "id": "eb674f3f-6837-4b2e-91bc-4725a8536d00",
   "metadata": {},
   "source": [
    "### Tensor Aggregation"
   ]
  },
  {
   "cell_type": "code",
   "execution_count": 276,
   "id": "59878787-f4da-4584-9f35-57a4be7da1ec",
   "metadata": {
    "execution": {
     "iopub.execute_input": "2025-03-14T02:01:58.620716Z",
     "iopub.status.busy": "2025-03-14T02:01:58.620043Z",
     "iopub.status.idle": "2025-03-14T02:01:58.625796Z",
     "shell.execute_reply": "2025-03-14T02:01:58.625199Z",
     "shell.execute_reply.started": "2025-03-14T02:01:58.620693Z"
    }
   },
   "outputs": [
    {
     "data": {
      "text/plain": [
       "tensor([ 0, 10, 20, 30, 40, 50, 60, 70, 80, 90])"
      ]
     },
     "execution_count": 276,
     "metadata": {},
     "output_type": "execute_result"
    }
   ],
   "source": [
    "x = torch.arange(0, 100, 10)\n",
    "x"
   ]
  },
  {
   "cell_type": "code",
   "execution_count": 280,
   "id": "58970b47-ad74-40c1-8844-c5bf885b30e4",
   "metadata": {
    "execution": {
     "iopub.execute_input": "2025-03-14T02:02:33.272090Z",
     "iopub.status.busy": "2025-03-14T02:02:33.271509Z",
     "iopub.status.idle": "2025-03-14T02:02:33.279850Z",
     "shell.execute_reply": "2025-03-14T02:02:33.279166Z",
     "shell.execute_reply.started": "2025-03-14T02:02:33.272049Z"
    }
   },
   "outputs": [
    {
     "data": {
      "text/plain": [
       "(tensor(0), tensor(0))"
      ]
     },
     "execution_count": 280,
     "metadata": {},
     "output_type": "execute_result"
    }
   ],
   "source": [
    "torch.min(x), x.min()"
   ]
  },
  {
   "cell_type": "code",
   "execution_count": 282,
   "id": "cd2cd2e6-b024-4c51-9ba0-5479751eb0aa",
   "metadata": {
    "execution": {
     "iopub.execute_input": "2025-03-14T02:02:46.320701Z",
     "iopub.status.busy": "2025-03-14T02:02:46.320094Z",
     "iopub.status.idle": "2025-03-14T02:02:46.327959Z",
     "shell.execute_reply": "2025-03-14T02:02:46.327399Z",
     "shell.execute_reply.started": "2025-03-14T02:02:46.320661Z"
    }
   },
   "outputs": [
    {
     "data": {
      "text/plain": [
       "(tensor(90), tensor(90))"
      ]
     },
     "execution_count": 282,
     "metadata": {},
     "output_type": "execute_result"
    }
   ],
   "source": [
    "torch.max(x), x.max()"
   ]
  },
  {
   "cell_type": "code",
   "execution_count": 288,
   "id": "cd6e5156-1262-45ad-9882-6d5bf18d78d2",
   "metadata": {
    "execution": {
     "iopub.execute_input": "2025-03-14T02:05:23.469295Z",
     "iopub.status.busy": "2025-03-14T02:05:23.468695Z",
     "iopub.status.idle": "2025-03-14T02:05:23.476588Z",
     "shell.execute_reply": "2025-03-14T02:05:23.476097Z",
     "shell.execute_reply.started": "2025-03-14T02:05:23.469254Z"
    }
   },
   "outputs": [
    {
     "data": {
      "text/plain": [
       "(tensor(45.), tensor(45.))"
      ]
     },
     "execution_count": 288,
     "metadata": {},
     "output_type": "execute_result"
    }
   ],
   "source": [
    "torch.mean(x.type(torch.float32)), x.type(torch.float32).mean()"
   ]
  },
  {
   "cell_type": "code",
   "execution_count": 290,
   "id": "7914bcca-e0ee-43be-b5cc-6f21f9119ab0",
   "metadata": {
    "execution": {
     "iopub.execute_input": "2025-03-14T02:06:26.459994Z",
     "iopub.status.busy": "2025-03-14T02:06:26.459645Z",
     "iopub.status.idle": "2025-03-14T02:06:26.468883Z",
     "shell.execute_reply": "2025-03-14T02:06:26.468001Z",
     "shell.execute_reply.started": "2025-03-14T02:06:26.459972Z"
    }
   },
   "outputs": [
    {
     "data": {
      "text/plain": [
       "(tensor(450), tensor(450))"
      ]
     },
     "execution_count": 290,
     "metadata": {},
     "output_type": "execute_result"
    }
   ],
   "source": [
    "torch.sum(x), x.sum()"
   ]
  },
  {
   "cell_type": "markdown",
   "id": "49118eab-5714-4f04-9016-809cd8ffa1d5",
   "metadata": {},
   "source": [
    "### Positional min and max"
   ]
  },
  {
   "cell_type": "code",
   "execution_count": 293,
   "id": "d2ed290e-f72a-4a7e-908f-4a960dd441d1",
   "metadata": {
    "execution": {
     "iopub.execute_input": "2025-03-14T02:10:14.230127Z",
     "iopub.status.busy": "2025-03-14T02:10:14.229541Z",
     "iopub.status.idle": "2025-03-14T02:10:14.237068Z",
     "shell.execute_reply": "2025-03-14T02:10:14.236481Z",
     "shell.execute_reply.started": "2025-03-14T02:10:14.230087Z"
    }
   },
   "outputs": [
    {
     "data": {
      "text/plain": [
       "tensor([ 0, 10, 20, 30, 40, 50, 60, 70, 80, 90])"
      ]
     },
     "execution_count": 293,
     "metadata": {},
     "output_type": "execute_result"
    }
   ],
   "source": [
    "x"
   ]
  },
  {
   "cell_type": "code",
   "execution_count": 295,
   "id": "3debd94e-ece1-4404-84dc-8978b4a550b6",
   "metadata": {
    "execution": {
     "iopub.execute_input": "2025-03-14T02:10:28.627457Z",
     "iopub.status.busy": "2025-03-14T02:10:28.626870Z",
     "iopub.status.idle": "2025-03-14T02:10:28.636051Z",
     "shell.execute_reply": "2025-03-14T02:10:28.635481Z",
     "shell.execute_reply.started": "2025-03-14T02:10:28.627415Z"
    }
   },
   "outputs": [
    {
     "data": {
      "text/plain": [
       "tensor(0)"
      ]
     },
     "execution_count": 295,
     "metadata": {},
     "output_type": "execute_result"
    }
   ],
   "source": [
    "x.argmin()"
   ]
  },
  {
   "cell_type": "code",
   "execution_count": 297,
   "id": "97470e09-0e80-4e10-aa6f-adb0f755a377",
   "metadata": {
    "execution": {
     "iopub.execute_input": "2025-03-14T02:10:45.316403Z",
     "iopub.status.busy": "2025-03-14T02:10:45.315792Z",
     "iopub.status.idle": "2025-03-14T02:10:45.323727Z",
     "shell.execute_reply": "2025-03-14T02:10:45.322970Z",
     "shell.execute_reply.started": "2025-03-14T02:10:45.316360Z"
    }
   },
   "outputs": [
    {
     "data": {
      "text/plain": [
       "tensor(9)"
      ]
     },
     "execution_count": 297,
     "metadata": {},
     "output_type": "execute_result"
    }
   ],
   "source": [
    "x.argmax()"
   ]
  },
  {
   "cell_type": "markdown",
   "id": "f2f9fb26-181a-4335-b08e-613295b87e95",
   "metadata": {},
   "source": [
    "### Reshaping stacking sueezing and un squeezing tensor"
   ]
  },
  {
   "cell_type": "code",
   "execution_count": 318,
   "id": "9e5244fe-cc0a-4ccb-94ff-cd619f7408ce",
   "metadata": {
    "execution": {
     "iopub.execute_input": "2025-03-14T02:23:04.555921Z",
     "iopub.status.busy": "2025-03-14T02:23:04.555336Z",
     "iopub.status.idle": "2025-03-14T02:23:04.563245Z",
     "shell.execute_reply": "2025-03-14T02:23:04.562490Z",
     "shell.execute_reply.started": "2025-03-14T02:23:04.555881Z"
    }
   },
   "outputs": [
    {
     "data": {
      "text/plain": [
       "(tensor([1, 2, 3, 4, 5, 6, 7, 8, 9]), torch.Size([9]))"
      ]
     },
     "execution_count": 318,
     "metadata": {},
     "output_type": "execute_result"
    }
   ],
   "source": [
    "x = torch.arange(1,10)\n",
    "x, x.shape"
   ]
  },
  {
   "cell_type": "code",
   "execution_count": 320,
   "id": "4086547a-bc7e-4e2e-9f0e-84662def570c",
   "metadata": {
    "execution": {
     "iopub.execute_input": "2025-03-14T02:23:04.922560Z",
     "iopub.status.busy": "2025-03-14T02:23:04.922206Z",
     "iopub.status.idle": "2025-03-14T02:23:04.930143Z",
     "shell.execute_reply": "2025-03-14T02:23:04.929172Z",
     "shell.execute_reply.started": "2025-03-14T02:23:04.922538Z"
    }
   },
   "outputs": [
    {
     "data": {
      "text/plain": [
       "(tensor([[1, 2, 3],\n",
       "         [4, 5, 6],\n",
       "         [7, 8, 9]]),\n",
       " torch.Size([3, 3]))"
      ]
     },
     "execution_count": 320,
     "metadata": {},
     "output_type": "execute_result"
    }
   ],
   "source": [
    "x_reshaped = x.reshape(3,3)\n",
    "x_reshaped, x_reshaped.shape"
   ]
  },
  {
   "cell_type": "code",
   "execution_count": 322,
   "id": "35096c7f-7746-477a-b551-0df758d0f317",
   "metadata": {
    "execution": {
     "iopub.execute_input": "2025-03-14T02:23:06.745017Z",
     "iopub.status.busy": "2025-03-14T02:23:06.744674Z",
     "iopub.status.idle": "2025-03-14T02:23:06.749649Z",
     "shell.execute_reply": "2025-03-14T02:23:06.749152Z",
     "shell.execute_reply.started": "2025-03-14T02:23:06.744996Z"
    }
   },
   "outputs": [
    {
     "data": {
      "text/plain": [
       "(tensor([[1, 2, 3],\n",
       "         [4, 5, 6],\n",
       "         [7, 8, 9]]),\n",
       " torch.Size([3, 3]))"
      ]
     },
     "execution_count": 322,
     "metadata": {},
     "output_type": "execute_result"
    }
   ],
   "source": [
    "z = x.view(3,3)\n",
    "z, z.shape"
   ]
  },
  {
   "cell_type": "code",
   "execution_count": 324,
   "id": "d12f593f-5e2e-4ea6-865f-026835ac18e2",
   "metadata": {
    "execution": {
     "iopub.execute_input": "2025-03-14T02:23:12.850312Z",
     "iopub.status.busy": "2025-03-14T02:23:12.849720Z",
     "iopub.status.idle": "2025-03-14T02:23:12.858446Z",
     "shell.execute_reply": "2025-03-14T02:23:12.857539Z",
     "shell.execute_reply.started": "2025-03-14T02:23:12.850270Z"
    }
   },
   "outputs": [
    {
     "data": {
      "text/plain": [
       "(tensor([[ 1,  2,  3],\n",
       "         [ 4, 10,  6],\n",
       "         [ 7,  8,  9]]),\n",
       " tensor([ 1,  2,  3,  4, 10,  6,  7,  8,  9]))"
      ]
     },
     "execution_count": 324,
     "metadata": {},
     "output_type": "execute_result"
    }
   ],
   "source": [
    "z[1, 1] = 10\n",
    "z, x"
   ]
  },
  {
   "cell_type": "code",
   "execution_count": 338,
   "id": "09870f36-1067-4116-b1eb-515dfe80dab8",
   "metadata": {
    "execution": {
     "iopub.execute_input": "2025-03-14T02:28:36.750011Z",
     "iopub.status.busy": "2025-03-14T02:28:36.749676Z",
     "iopub.status.idle": "2025-03-14T02:28:36.758746Z",
     "shell.execute_reply": "2025-03-14T02:28:36.757634Z",
     "shell.execute_reply.started": "2025-03-14T02:28:36.749990Z"
    }
   },
   "outputs": [
    {
     "data": {
      "text/plain": [
       "tensor([[ 1,  2,  3,  4, 10,  6,  7,  8,  9],\n",
       "        [ 1,  2,  3,  4, 10,  6,  7,  8,  9],\n",
       "        [ 1,  2,  3,  4, 10,  6,  7,  8,  9],\n",
       "        [ 1,  2,  3,  4, 10,  6,  7,  8,  9]])"
      ]
     },
     "execution_count": 338,
     "metadata": {},
     "output_type": "execute_result"
    }
   ],
   "source": [
    "x_stack = torch.stack([x,x,x,x], dim=0)\n",
    "x_stack"
   ]
  },
  {
   "cell_type": "code",
   "execution_count": 344,
   "id": "3872dc33-3fa6-43eb-9405-4d8893e659ee",
   "metadata": {
    "execution": {
     "iopub.execute_input": "2025-03-14T02:34:06.589446Z",
     "iopub.status.busy": "2025-03-14T02:34:06.588843Z",
     "iopub.status.idle": "2025-03-14T02:34:06.598411Z",
     "shell.execute_reply": "2025-03-14T02:34:06.597718Z",
     "shell.execute_reply.started": "2025-03-14T02:34:06.589403Z"
    }
   },
   "outputs": [
    {
     "data": {
      "text/plain": [
       "(torch.Size([224, 224, 3]), torch.Size([3, 224, 224]))"
      ]
     },
     "execution_count": 344,
     "metadata": {},
     "output_type": "execute_result"
    }
   ],
   "source": [
    "x_original = torch.rand(size = (224,224,3))\n",
    "x_permuted = x_original.permute(2, 0, 1)\n",
    "x_original.shape, x_permuted.shape"
   ]
  },
  {
   "cell_type": "code",
   "execution_count": 346,
   "id": "8e71f14e-b575-4bda-b899-a39cd5bcced1",
   "metadata": {
    "execution": {
     "iopub.execute_input": "2025-03-14T02:39:53.641781Z",
     "iopub.status.busy": "2025-03-14T02:39:53.641189Z",
     "iopub.status.idle": "2025-03-14T02:39:53.648559Z",
     "shell.execute_reply": "2025-03-14T02:39:53.647791Z",
     "shell.execute_reply.started": "2025-03-14T02:39:53.641741Z"
    }
   },
   "outputs": [
    {
     "data": {
      "text/plain": [
       "tensor([[ 1,  2,  3],\n",
       "        [ 4, 10,  6],\n",
       "        [ 7,  8,  9]])"
      ]
     },
     "execution_count": 346,
     "metadata": {},
     "output_type": "execute_result"
    }
   ],
   "source": [
    "z"
   ]
  },
  {
   "cell_type": "code",
   "execution_count": 348,
   "id": "1e4d4a2a-1490-4f5c-a410-7b360aa8b90d",
   "metadata": {
    "execution": {
     "iopub.execute_input": "2025-03-14T02:40:03.966630Z",
     "iopub.status.busy": "2025-03-14T02:40:03.966279Z",
     "iopub.status.idle": "2025-03-14T02:40:03.973701Z",
     "shell.execute_reply": "2025-03-14T02:40:03.973000Z",
     "shell.execute_reply.started": "2025-03-14T02:40:03.966609Z"
    }
   },
   "outputs": [
    {
     "data": {
      "text/plain": [
       "tensor([1, 4, 7])"
      ]
     },
     "execution_count": 348,
     "metadata": {},
     "output_type": "execute_result"
    }
   ],
   "source": [
    "z[:,0]"
   ]
  },
  {
   "cell_type": "code",
   "execution_count": 360,
   "id": "e80195b8-8fa6-4977-beb2-08042d0fb2bd",
   "metadata": {
    "execution": {
     "iopub.execute_input": "2025-03-14T02:41:00.213908Z",
     "iopub.status.busy": "2025-03-14T02:41:00.213720Z",
     "iopub.status.idle": "2025-03-14T02:41:00.217013Z",
     "shell.execute_reply": "2025-03-14T02:41:00.216663Z",
     "shell.execute_reply.started": "2025-03-14T02:41:00.213896Z"
    }
   },
   "outputs": [
    {
     "data": {
      "text/plain": [
       "tensor([ 2, 10,  8])"
      ]
     },
     "execution_count": 360,
     "metadata": {},
     "output_type": "execute_result"
    }
   ],
   "source": [
    "z[:,1]"
   ]
  },
  {
   "cell_type": "code",
   "execution_count": 362,
   "id": "8cdecc76-2c71-47ab-9de2-2f9257ff42fc",
   "metadata": {
    "execution": {
     "iopub.execute_input": "2025-03-14T02:42:31.016870Z",
     "iopub.status.busy": "2025-03-14T02:42:31.016283Z",
     "iopub.status.idle": "2025-03-14T02:42:31.028654Z",
     "shell.execute_reply": "2025-03-14T02:42:31.028078Z",
     "shell.execute_reply.started": "2025-03-14T02:42:31.016830Z"
    }
   },
   "outputs": [
    {
     "data": {
      "text/plain": [
       "(array([1., 2., 3., 4., 5., 6., 7.]),\n",
       " tensor([1., 2., 3., 4., 5., 6., 7.], dtype=torch.float64))"
      ]
     },
     "execution_count": 362,
     "metadata": {},
     "output_type": "execute_result"
    }
   ],
   "source": [
    "import numpy as np\n",
    "array = np.arange(1.0, 8.0)\n",
    "tensor = torch.from_numpy(array)\n",
    "array, tensor"
   ]
  },
  {
   "cell_type": "markdown",
   "id": "e3d5a06b-8581-42b3-8bb1-cc3f46d4e6db",
   "metadata": {},
   "source": [
    "### Nural Networks"
   ]
  },
  {
   "cell_type": "code",
   "execution_count": 365,
   "id": "e4fae82c-45ae-4871-b5c6-a87805920eb9",
   "metadata": {
    "execution": {
     "iopub.execute_input": "2025-03-14T03:06:36.533561Z",
     "iopub.status.busy": "2025-03-14T03:06:36.532966Z",
     "iopub.status.idle": "2025-03-14T03:06:36.538939Z",
     "shell.execute_reply": "2025-03-14T03:06:36.537620Z",
     "shell.execute_reply.started": "2025-03-14T03:06:36.533512Z"
    }
   },
   "outputs": [],
   "source": [
    "from torch import nn\n",
    "import matplotlib.pyplot as plt\n"
   ]
  },
  {
   "cell_type": "code",
   "execution_count": 367,
   "id": "1c440eec-b11a-4a2a-ad59-245867911415",
   "metadata": {
    "execution": {
     "iopub.execute_input": "2025-03-14T03:11:28.979549Z",
     "iopub.status.busy": "2025-03-14T03:11:28.978955Z",
     "iopub.status.idle": "2025-03-14T03:11:28.989613Z",
     "shell.execute_reply": "2025-03-14T03:11:28.988846Z",
     "shell.execute_reply.started": "2025-03-14T03:11:28.979508Z"
    }
   },
   "outputs": [
    {
     "data": {
      "text/plain": [
       "(tensor([[0.0000],\n",
       "         [0.0200],\n",
       "         [0.0400],\n",
       "         [0.0600],\n",
       "         [0.0800],\n",
       "         [0.1000],\n",
       "         [0.1200],\n",
       "         [0.1400],\n",
       "         [0.1600],\n",
       "         [0.1800]]),\n",
       " tensor([[0.3000],\n",
       "         [0.3140],\n",
       "         [0.3280],\n",
       "         [0.3420],\n",
       "         [0.3560],\n",
       "         [0.3700],\n",
       "         [0.3840],\n",
       "         [0.3980],\n",
       "         [0.4120],\n",
       "         [0.4260]]))"
      ]
     },
     "execution_count": 367,
     "metadata": {},
     "output_type": "execute_result"
    }
   ],
   "source": [
    "# Create *known* parameters\n",
    "weight = 0.7\n",
    "bias = 0.3\n",
    "\n",
    "# Create data\n",
    "start = 0\n",
    "end = 1\n",
    "step = 0.02\n",
    "X = torch.arange(start, end, step).unsqueeze(dim=1)\n",
    "y = weight * X + bias\n",
    "\n",
    "X[:10], y[:10]"
   ]
  },
  {
   "cell_type": "code",
   "execution_count": 369,
   "id": "3375b9f2-838a-486a-8251-6e6722fc6565",
   "metadata": {
    "execution": {
     "iopub.execute_input": "2025-03-14T03:11:46.625332Z",
     "iopub.status.busy": "2025-03-14T03:11:46.624748Z",
     "iopub.status.idle": "2025-03-14T03:11:46.634044Z",
     "shell.execute_reply": "2025-03-14T03:11:46.633064Z",
     "shell.execute_reply.started": "2025-03-14T03:11:46.625291Z"
    }
   },
   "outputs": [
    {
     "data": {
      "text/plain": [
       "(40, 40, 10, 10)"
      ]
     },
     "execution_count": 369,
     "metadata": {},
     "output_type": "execute_result"
    }
   ],
   "source": [
    "# Create train/test split\n",
    "train_split = int(0.8 * len(X)) # 80% of data used for training set, 20% for testing \n",
    "X_train, y_train = X[:train_split], y[:train_split]\n",
    "X_test, y_test = X[train_split:], y[train_split:]\n",
    "\n",
    "len(X_train), len(y_train), len(X_test), len(y_test)"
   ]
  },
  {
   "cell_type": "code",
   "execution_count": 371,
   "id": "597d87db-18ac-4346-97f5-f0f1b46e0669",
   "metadata": {
    "execution": {
     "iopub.execute_input": "2025-03-14T03:12:02.958387Z",
     "iopub.status.busy": "2025-03-14T03:12:02.957794Z",
     "iopub.status.idle": "2025-03-14T03:12:02.966287Z",
     "shell.execute_reply": "2025-03-14T03:12:02.965155Z",
     "shell.execute_reply.started": "2025-03-14T03:12:02.958346Z"
    }
   },
   "outputs": [],
   "source": [
    "def plot_predictions(train_data=X_train, \n",
    "                     train_labels=y_train, \n",
    "                     test_data=X_test, \n",
    "                     test_labels=y_test, \n",
    "                     predictions=None):\n",
    "  \"\"\"\n",
    "  Plots training data, test data and compares predictions.\n",
    "  \"\"\"\n",
    "  plt.figure(figsize=(10, 7))\n",
    "\n",
    "  # Plot training data in blue\n",
    "  plt.scatter(train_data, train_labels, c=\"b\", s=4, label=\"Training data\")\n",
    "  \n",
    "  # Plot test data in green\n",
    "  plt.scatter(test_data, test_labels, c=\"g\", s=4, label=\"Testing data\")\n",
    "\n",
    "  if predictions is not None:\n",
    "    # Plot the predictions in red (predictions were made on the test data)\n",
    "    plt.scatter(test_data, predictions, c=\"r\", s=4, label=\"Predictions\")\n",
    "\n",
    "  # Show the legend\n",
    "  plt.legend(prop={\"size\": 14});"
   ]
  },
  {
   "cell_type": "code",
   "execution_count": 373,
   "id": "5367a4b7-ec6e-42d8-9935-e11dc57cef95",
   "metadata": {
    "execution": {
     "iopub.execute_input": "2025-03-14T03:12:14.760047Z",
     "iopub.status.busy": "2025-03-14T03:12:14.759461Z",
     "iopub.status.idle": "2025-03-14T03:12:15.207333Z",
     "shell.execute_reply": "2025-03-14T03:12:15.206602Z",
     "shell.execute_reply.started": "2025-03-14T03:12:14.760006Z"
    }
   },
   "outputs": [
    {
     "data": {
      "image/png": "[encoded data removed]",
      "text/plain": [
       "<Figure size 1000x700 with 1 Axes>"
      ]
     },
     "metadata": {},
     "output_type": "display_data"
    }
   ],
   "source": [
    "plot_predictions();"
   ]
  },
  {
   "cell_type": "code",
   "execution_count": 375,
   "id": "5726d9d9-abec-4922-b8e9-5ccde9f6fef0",
   "metadata": {
    "execution": {
     "iopub.execute_input": "2025-03-14T03:12:48.267938Z",
     "iopub.status.busy": "2025-03-14T03:12:48.267350Z",
     "iopub.status.idle": "2025-03-14T03:12:48.276210Z",
     "shell.execute_reply": "2025-03-14T03:12:48.275230Z",
     "shell.execute_reply.started": "2025-03-14T03:12:48.267897Z"
    }
   },
   "outputs": [],
   "source": [
    "# Create a Linear Regression model class\n",
    "class LinearRegressionModel(nn.Module): # <- almost everything in PyTorch is a nn.Module (think of this as neural network lego blocks)\n",
    "    def __init__(self):\n",
    "        super().__init__() \n",
    "        self.weights = nn.Parameter(torch.randn(1, # <- start with random weights (this will get adjusted as the model learns)\n",
    "                                                dtype=torch.float), # <- PyTorch loves float32 by default\n",
    "                                   requires_grad=True) # <- can we update this value with gradient descent?)\n",
    "\n",
    "        self.bias = nn.Parameter(torch.randn(1, # <- start with random bias (this will get adjusted as the model learns)\n",
    "                                            dtype=torch.float), # <- PyTorch loves float32 by default\n",
    "                                requires_grad=True) # <- can we update this value with gradient descent?))\n",
    "\n",
    "    # Forward defines the computation in the model\n",
    "    def forward(self, x: torch.Tensor) -> torch.Tensor: # <- \"x\" is the input data (e.g. training/testing features)\n",
    "        return self.weights * x + self.bias # <- this is the linear regression formula (y = m*x + b)"
   ]
  },
  {
   "cell_type": "code",
   "execution_count": null,
   "id": "700134f6-c210-4307-ab42-013846731df2",
   "metadata": {},
   "outputs": [],
   "source": []
  }
 ],
 "metadata": {
  "kernelspec": {
   "display_name": "Python [conda env:base] *",
   "language": "python",
   "name": "conda-base-py"
  },
  "language_info": {
   "codemirror_mode": {
    "name": "ipython",
    "version": 3
   },
   "file_extension": ".py",
   "mimetype": "text/x-python",
   "name": "python",
   "nbconvert_exporter": "python",
   "pygments_lexer": "ipython3",
   "version": "3.12.7"
  }
 },
 "nbformat": 4,
 "nbformat_minor": 5
}
